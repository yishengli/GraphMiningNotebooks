{
  "nbformat": 4,
  "nbformat_minor": 0,
  "metadata": {
    "colab": {
      "name": "Gomez_Li_Assignment3_Final.ipynb",
      "provenance": [],
      "collapsed_sections": [],
      "include_colab_link": true
    },
    "kernelspec": {
      "name": "python3",
      "display_name": "Python 3"
    },
    "language_info": {
      "name": "python"
    }
  },
  "cells": [
    {
      "cell_type": "markdown",
      "metadata": {
        "id": "view-in-github",
        "colab_type": "text"
      },
      "source": [
        "<a href=\"https://colab.research.google.com/github/yishengli/GraphMiningNotebooks/blob/master/Gomez_Li_Assignment3_Final.ipynb\" target=\"_parent\"><img src=\"https://colab.research.google.com/assets/colab-badge.svg\" alt=\"Open In Colab\"/></a>"
      ]
    },
    {
      "cell_type": "code",
      "metadata": {
        "colab": {
          "base_uri": "https://localhost:8080/"
        },
        "id": "wL3L6e91iB4d",
        "outputId": "3b3118a5-6df5-4fe4-9419-9dd8f22e864a"
      },
      "source": [
        "pip install python-igraph"
      ],
      "execution_count": null,
      "outputs": [
        {
          "output_type": "stream",
          "name": "stdout",
          "text": [
            "Collecting python-igraph\n",
            "  Downloading python_igraph-0.9.7-cp37-cp37m-manylinux_2_12_x86_64.manylinux2010_x86_64.whl (3.2 MB)\n",
            "\u001b[K     |████████████████████████████████| 3.2 MB 5.4 MB/s \n",
            "\u001b[?25hCollecting texttable>=1.6.2\n",
            "  Downloading texttable-1.6.4-py2.py3-none-any.whl (10 kB)\n",
            "Installing collected packages: texttable, python-igraph\n",
            "Successfully installed python-igraph-0.9.7 texttable-1.6.4\n"
          ]
        }
      ]
    },
    {
      "cell_type": "code",
      "metadata": {
        "colab": {
          "base_uri": "https://localhost:8080/"
        },
        "id": "86H9zBuQowwm",
        "outputId": "69bd5a2b-7b71-4891-baf2-e5ce7207a182"
      },
      "source": [
        "pip install plfit"
      ],
      "execution_count": null,
      "outputs": [
        {
          "output_type": "stream",
          "name": "stdout",
          "text": [
            "Collecting plfit\n",
            "  Downloading plfit-1.0.3.tar.gz (193 kB)\n",
            "\u001b[K     |████████████████████████████████| 193 kB 5.4 MB/s \n",
            "\u001b[?25hRequirement already satisfied: numpy in /usr/local/lib/python3.7/dist-packages (from plfit) (1.19.5)\n",
            "Requirement already satisfied: cython in /usr/local/lib/python3.7/dist-packages (from plfit) (0.29.24)\n",
            "Building wheels for collected packages: plfit\n",
            "  Building wheel for plfit (setup.py) ... \u001b[?25l\u001b[?25hdone\n",
            "  Created wheel for plfit: filename=plfit-1.0.3-cp37-cp37m-linux_x86_64.whl size=123178 sha256=8ff3a7f57e06a746dd0b782e1be75b5845ff4a3d169caa962545311c775107a7\n",
            "  Stored in directory: /root/.cache/pip/wheels/44/c5/30/2761386f6aea1d7ca4ffb706f90535faa81365be034b32055a\n",
            "Successfully built plfit\n",
            "Installing collected packages: plfit\n",
            "Successfully installed plfit-1.0.3\n"
          ]
        }
      ]
    },
    {
      "cell_type": "code",
      "metadata": {
        "id": "X-lSt5UPiPTh"
      },
      "source": [
        "import igraph as ig\n",
        "import numpy as np\n",
        "import pandas as pd\n",
        "import matplotlib.pyplot as plt\n",
        "from matplotlib import cm"
      ],
      "execution_count": null,
      "outputs": []
    },
    {
      "cell_type": "code",
      "metadata": {
        "id": "8yi-2N5gkSur"
      },
      "source": [
        "datadir = 'https://raw.githubusercontent.com/ftheberge/GraphMiningNotebooks/master/Datasets/'"
      ],
      "execution_count": null,
      "outputs": []
    },
    {
      "cell_type": "code",
      "metadata": {
        "id": "Vc8xzzkkloaH"
      },
      "source": [
        "## directed degree centrality\n",
        "def degree_centrality(g, weights=None):\n",
        "    n = g.vcount()\n",
        "    if g.is_directed():\n",
        "        dc = [sum(x)/(2*(n-1)) for x in zip(g.strength(mode='in',weights=weights),\\\n",
        "              g.strength(mode='out',weights=weights))]\n",
        "    else:\n",
        "        dc = [x/(n-1) for x in g.strength(weights=weights)]\n",
        "    return dc"
      ],
      "execution_count": null,
      "outputs": []
    },
    {
      "cell_type": "code",
      "metadata": {
        "id": "AdU70LTglvvj"
      },
      "source": [
        "## compute several centrality measures - weighted graphs\n",
        "def centrality_measures_w(g):\n",
        "    C = pd.DataFrame({'name':g.vs()['name'],\\\n",
        "                      'degree':degree_centrality(g,weights='normalized_weight'),\\\n",
        "                      'pagerank':g.pagerank(weights='weight'),'authority':g.authority_score(weights='weight'),\\\n",
        "                      'hub':g.hub_score(weights='weight'),'between':g.betweenness(),\\\n",
        "                      'closeness':g.closeness()})\n",
        "    ## normalize betweenness\n",
        "    n = g.vcount()\n",
        "    C['between'] = [2*x/((n-1)*(n-2)) for x in C['between']]\n",
        "    return C"
      ],
      "execution_count": null,
      "outputs": []
    },
    {
      "cell_type": "markdown",
      "metadata": {
        "id": "26VvLsMIkVc7"
      },
      "source": [
        "# Problem 1"
      ]
    },
    {
      "cell_type": "markdown",
      "metadata": {
        "id": "QTv1mCWxmpr3"
      },
      "source": [
        "Below is the code to read dataset and create graph (copied from the jupiter notebook provided):"
      ]
    },
    {
      "cell_type": "code",
      "metadata": {
        "id": "DiIVAb3QkOYJ"
      },
      "source": [
        "## read edges and build weighted directed graph\n",
        "D = pd.read_csv(datadir+'Airports/connections.csv')\n",
        "g = ig.Graph.TupleList([tuple(x) for x in D.values], directed=True, edge_attrs=['weight'])\n",
        "df = D.head()"
      ],
      "execution_count": null,
      "outputs": []
    },
    {
      "cell_type": "code",
      "metadata": {
        "id": "Je7YjMxBkn77"
      },
      "source": [
        "## define colors and node sizes here\n",
        "cls_edges = 'gainsboro'\n",
        "cls = ['silver','dimgray','black']\n",
        "sz = [6,9,12]"
      ],
      "execution_count": null,
      "outputs": []
    },
    {
      "cell_type": "code",
      "metadata": {
        "colab": {
          "base_uri": "https://localhost:8080/"
        },
        "id": "sm84kxgpkkNz",
        "outputId": "3efd76b5-81e3-4b82-8605-d88707dc7427"
      },
      "source": [
        "## read vertex attributes and add to graph\n",
        "A = pd.read_csv(datadir+'Airports/airports_loc.csv')\n",
        "lookup = {k:v for v,k in enumerate(A['airport'])}\n",
        "l = [lookup[x] for x in g.vs()['name']]\n",
        "g.vs()['layout'] = [(A['lon'][i],A['lat'][i]) for i in l]\n",
        "g.vs()['state'] = [A['state'][i] for i in l]\n",
        "g.vs()['city'] = [A['city'][i] for i in l]\n",
        "## add a few more attributes for visualization\n",
        "g.vs()['size'] = sz[1]\n",
        "g.vs()['color'] = cls[1]\n",
        "g.es()['color'] = cls_edges\n",
        "g.es()['arrow_size'] = 0.33\n",
        "df = A.head()\n",
        "print(g.vcount(),'nodes and',g.ecount(),'directed edges')"
      ],
      "execution_count": null,
      "outputs": [
        {
          "output_type": "stream",
          "name": "stdout",
          "text": [
            "464 nodes and 12000 directed edges\n"
          ]
        }
      ]
    },
    {
      "cell_type": "markdown",
      "metadata": {
        "id": "o_ASc8gQm1Cu"
      },
      "source": [
        "Subgraph is created for all nodes from the state of New York. Also isolated vertices and loops are removed:"
      ]
    },
    {
      "cell_type": "code",
      "metadata": {
        "colab": {
          "base_uri": "https://localhost:8080/"
        },
        "id": "kawDmvlNkuZO",
        "outputId": "943dec36-5a5e-42eb-92f7-89a488c95bdf"
      },
      "source": [
        "## Build smaller subgraph for New York\n",
        "hva = [v for v in g.vs() if v['state'] == 'NY']\n",
        "G = g.subgraph(hva)\n",
        "\n",
        "## drop isolated vertices (i.e. without in-state connections)\n",
        "G = G.subgraph([v for v in G.vs() if v.degree()>0])\n",
        "\n",
        "## remove loops\n",
        "G = G.simplify(multiple=False)\n",
        "print(G.vcount(),'nodes and',G.ecount(),'directed edges')"
      ],
      "execution_count": null,
      "outputs": [
        {
          "output_type": "stream",
          "name": "stdout",
          "text": [
            "13 nodes and 50 directed edges\n"
          ]
        }
      ]
    },
    {
      "cell_type": "code",
      "metadata": {
        "id": "pHHy_bu1lnAx"
      },
      "source": [
        "## compute normalized weights \n",
        "mw = np.max(G.es['weight'])\n",
        "G.es()['normalized_weight'] = [w/mw for w in G.es()['weight']]"
      ],
      "execution_count": null,
      "outputs": []
    },
    {
      "cell_type": "markdown",
      "metadata": {
        "id": "b3vvgxmlnanP"
      },
      "source": [
        "Now, the top five ranked airports (with respect to the degree centrality)\n",
        "in the state of New York are:\n",
        "\n",
        "NOTE: Results are presented in the same way as Table 3.3 from the Course Textbook."
      ]
    },
    {
      "cell_type": "code",
      "metadata": {
        "colab": {
          "base_uri": "https://localhost:8080/",
          "height": 204
        },
        "id": "JZEHpavJIaxu",
        "outputId": "bc5f7ad1-672d-47e6-f2ff-6248a753d3e7"
      },
      "source": [
        "## sort w.r.t. degree centrality, look at top airports\n",
        "C = centrality_measures(G)\n",
        "Cs = C.sort_values(by='degree', ascending=False)\n",
        "df = Cs.head(5)\n",
        "df"
      ],
      "execution_count": null,
      "outputs": [
        {
          "output_type": "execute_result",
          "data": {
            "text/html": [
              "<div>\n",
              "<style scoped>\n",
              "    .dataframe tbody tr th:only-of-type {\n",
              "        vertical-align: middle;\n",
              "    }\n",
              "\n",
              "    .dataframe tbody tr th {\n",
              "        vertical-align: top;\n",
              "    }\n",
              "\n",
              "    .dataframe thead th {\n",
              "        text-align: right;\n",
              "    }\n",
              "</style>\n",
              "<table border=\"1\" class=\"dataframe\">\n",
              "  <thead>\n",
              "    <tr style=\"text-align: right;\">\n",
              "      <th></th>\n",
              "      <th>name</th>\n",
              "      <th>degree</th>\n",
              "      <th>pagerank</th>\n",
              "      <th>authority</th>\n",
              "      <th>hub</th>\n",
              "      <th>between</th>\n",
              "      <th>closeness</th>\n",
              "    </tr>\n",
              "  </thead>\n",
              "  <tbody>\n",
              "    <tr>\n",
              "      <th>0</th>\n",
              "      <td>JFK</td>\n",
              "      <td>0.173125</td>\n",
              "      <td>0.342720</td>\n",
              "      <td>1.000000</td>\n",
              "      <td>0.373760</td>\n",
              "      <td>0.647727</td>\n",
              "      <td>0.705882</td>\n",
              "    </tr>\n",
              "    <tr>\n",
              "      <th>2</th>\n",
              "      <td>BUF</td>\n",
              "      <td>0.101629</td>\n",
              "      <td>0.195702</td>\n",
              "      <td>0.261299</td>\n",
              "      <td>1.000000</td>\n",
              "      <td>0.167929</td>\n",
              "      <td>0.705882</td>\n",
              "    </tr>\n",
              "    <tr>\n",
              "      <th>4</th>\n",
              "      <td>ROC</td>\n",
              "      <td>0.054908</td>\n",
              "      <td>0.109433</td>\n",
              "      <td>0.141841</td>\n",
              "      <td>0.546989</td>\n",
              "      <td>0.000000</td>\n",
              "      <td>0.631579</td>\n",
              "    </tr>\n",
              "    <tr>\n",
              "      <th>5</th>\n",
              "      <td>SYR</td>\n",
              "      <td>0.044959</td>\n",
              "      <td>0.097118</td>\n",
              "      <td>0.113975</td>\n",
              "      <td>0.459400</td>\n",
              "      <td>0.243687</td>\n",
              "      <td>0.750000</td>\n",
              "    </tr>\n",
              "    <tr>\n",
              "      <th>1</th>\n",
              "      <td>LGA</td>\n",
              "      <td>0.040011</td>\n",
              "      <td>0.108312</td>\n",
              "      <td>0.213367</td>\n",
              "      <td>0.078989</td>\n",
              "      <td>0.286616</td>\n",
              "      <td>0.750000</td>\n",
              "    </tr>\n",
              "  </tbody>\n",
              "</table>\n",
              "</div>"
            ],
            "text/plain": [
              "  name    degree  pagerank  authority       hub   between  closeness\n",
              "0  JFK  0.173125  0.342720   1.000000  0.373760  0.647727   0.705882\n",
              "2  BUF  0.101629  0.195702   0.261299  1.000000  0.167929   0.705882\n",
              "4  ROC  0.054908  0.109433   0.141841  0.546989  0.000000   0.631579\n",
              "5  SYR  0.044959  0.097118   0.113975  0.459400  0.243687   0.750000\n",
              "1  LGA  0.040011  0.108312   0.213367  0.078989  0.286616   0.750000"
            ]
          },
          "metadata": {},
          "execution_count": 41
        }
      ]
    },
    {
      "cell_type": "markdown",
      "metadata": {
        "id": "QgsMYWOlnsTV"
      },
      "source": [
        "# Problem 2"
      ]
    },
    {
      "cell_type": "markdown",
      "metadata": {
        "id": "g1U3lZE9336L"
      },
      "source": [
        "Note: We tried two different approaches, as we were not sure which one might be more appropriate. Apologize for the lengthy results. "
      ]
    },
    {
      "cell_type": "code",
      "metadata": {
        "id": "79SiLNrqnvKc"
      },
      "source": [
        "## fast Chung-Lu: generate m edges w.r.t. distribution d\n",
        "def fastCL(d, m):\n",
        "    n = len(d)\n",
        "    s = np.sum(d)\n",
        "    p = [i/s for i in d]\n",
        "    target = m\n",
        "    tples = []\n",
        "    ## generate edges (tuples), drop collisions, until m edges are obtained.\n",
        "    while len(tples) < target:\n",
        "        s = target - len(tples)\n",
        "        e0 = np.random.choice(n, size=s, replace=True, p=p)\n",
        "        e1 = np.random.choice(n, size=s, replace=True, p=p)\n",
        "        tples.extend([(min(e0[i],e1[i]),max(e0[i],e1[i])) for i in range(len(e0)) if e0[i]!=e1[i]]) ## ignore loops\n",
        "        tples = list(set(tples)) ## drop collisions\n",
        "    return tples"
      ],
      "execution_count": null,
      "outputs": []
    },
    {
      "cell_type": "code",
      "metadata": {
        "id": "UhKupPMwqkDl"
      },
      "source": [
        "## power law graph\n",
        "gamma = 2.5\n",
        "##n = 10000\n",
        "n = 1000\n",
        "## min and max degrees\n",
        "delta = 100\n",
        "Delta = np.sqrt(n)\n",
        "\n",
        "deg = [delta * (n/(i-1+n/(Delta/delta)**(gamma-1)))**(1/(gamma-1)) for i in np.arange(1,n+1)]\n",
        "# deg = [int(np.round(w)) for w in W] ## to enforce integer weights, not an obligation"
      ],
      "execution_count": null,
      "outputs": []
    },
    {
      "cell_type": "code",
      "metadata": {
        "id": "R7rCQB0Mnmj7"
      },
      "source": [
        "# deg = W\n",
        "\n",
        "## generate graph with Chung-Lu model\n",
        "m = int(np.mean(deg)*n/2)\n",
        "tpl = fastCL(deg,m)\n",
        "# g1 = ig.Graph.TupleList(tpl)\n",
        "g1 = ig.Graph.TupleList(tpl, directed=True)\n",
        "## number of isolated nodes (no edges)\n",
        "g1.es['weight'] = deg\n",
        "iso = n-g1.vcount()\n",
        "# print('isolates:',iso)"
      ],
      "execution_count": null,
      "outputs": []
    },
    {
      "cell_type": "code",
      "metadata": {
        "id": "dpVDUdd-rc62"
      },
      "source": [
        "deg = g1.degree()\n",
        "g1.vs()['deg'] = deg\n",
        "K = np.arange(np.min(deg),np.max(deg),1)\n",
        "auth_score = g1.authority_score()\n",
        "hub_score = g1.hub_score()\n",
        "dc = []\n",
        "pr = []\n",
        "auth = []\n",
        "hub = []\n",
        "bet = []\n",
        "clo = []\n",
        "for k in K:\n",
        "    nodes = [v for v in g1.vs() if v['deg'] == k]\n",
        "    if len(nodes) > 0:\n",
        "        dc.append(k/(n-1))\n",
        "        pr.append(np.mean(g1.pagerank(vertices = nodes)))\n",
        "        bet.append(np.mean(g1.betweenness(vertices = nodes)))\n",
        "        clo.append(np.mean(g1.closeness(vertices = nodes)))\n",
        "        a = []\n",
        "        h = []\n",
        "        for n1 in nodes:\n",
        "            a.append(auth_score[n1.index])\n",
        "            h.append(hub_score[n1.index])\n",
        "        auth.append(np.mean(a))\n",
        "        hub.append(np.mean(h))\n",
        "    else:\n",
        "        dc.append(np.nan)\n",
        "        pr.append(np.nan)\n",
        "        bet.append(np.nan)\n",
        "        clo.append(np.nan)\n",
        "        auth.append(np.nan)\n",
        "        hub.append(np.nan)\n",
        "## normalize betweenness\n",
        "bet = [2*x/((n-1)*(n-2)) for x in bet]"
      ],
      "execution_count": null,
      "outputs": []
    },
    {
      "cell_type": "markdown",
      "metadata": {
        "id": "qnTek8oD4R5E"
      },
      "source": [
        "Approach 1"
      ]
    },
    {
      "cell_type": "code",
      "metadata": {
        "colab": {
          "base_uri": "https://localhost:8080/",
          "height": 299
        },
        "id": "ROTEgbGgwOU8",
        "outputId": "f6a16bae-8320-407d-afbe-bb7e49357f98"
      },
      "source": [
        "plt.plot(K,dc,color='black')\n",
        "plt.title('Average centrality measure f(k)')\n",
        "plt.xlabel(r'Degree',fontsize=14)\n",
        "plt.ylabel('Degree Centrality',fontsize=14);"
      ],
      "execution_count": null,
      "outputs": [
        {
          "output_type": "display_data",
          "data": {
            "image/png": "[encoded data removed]",
            "text/plain": [
              "<Figure size 432x288 with 1 Axes>"
            ]
          },
          "metadata": {
            "needs_background": "light"
          }
        }
      ]
    },
    {
      "cell_type": "code",
      "metadata": {
        "colab": {
          "base_uri": "https://localhost:8080/",
          "height": 299
        },
        "id": "0TuE4IKgmFdY",
        "outputId": "d2fa87ce-d497-4917-df34-7f2c30fbf2c8"
      },
      "source": [
        "plt.plot(K,pr,color='black')\n",
        "plt.title('Average centrality measure f(k)')\n",
        "plt.xlabel(r'Degree',fontsize=14)\n",
        "plt.ylabel('PageRank Centrality',fontsize=14);"
      ],
      "execution_count": null,
      "outputs": [
        {
          "output_type": "display_data",
          "data": {
            "image/png": "[encoded data removed]",
            "text/plain": [
              "<Figure size 432x288 with 1 Axes>"
            ]
          },
          "metadata": {
            "needs_background": "light"
          }
        }
      ]
    },
    {
      "cell_type": "code",
      "metadata": {
        "colab": {
          "base_uri": "https://localhost:8080/",
          "height": 299
        },
        "id": "qTykVLTgmUMP",
        "outputId": "35f410b8-cb6f-43a8-9fa1-b1d07ba24612"
      },
      "source": [
        "plt.plot(K,auth,color='black')\n",
        "plt.title('Average centrality measure f(k)')\n",
        "plt.xlabel(r'Degree',fontsize=14)\n",
        "plt.ylabel('Authority Score Centrality',fontsize=14);"
      ],
      "execution_count": null,
      "outputs": [
        {
          "output_type": "display_data",
          "data": {
            "image/png": "[encoded data removed]",
            "text/plain": [
              "<Figure size 432x288 with 1 Axes>"
            ]
          },
          "metadata": {
            "needs_background": "light"
          }
        }
      ]
    },
    {
      "cell_type": "code",
      "metadata": {
        "colab": {
          "base_uri": "https://localhost:8080/",
          "height": 299
        },
        "id": "m_7iO4hfnKO6",
        "outputId": "eb84a279-e207-426b-b547-515d8809fb24"
      },
      "source": [
        "plt.plot(K,hub,color='black')\n",
        "plt.title('Average centrality measure f(k)')\n",
        "plt.xlabel(r'Degree',fontsize=14)\n",
        "plt.ylabel('Hub Score Centrality',fontsize=14);"
      ],
      "execution_count": null,
      "outputs": [
        {
          "output_type": "display_data",
          "data": {
            "image/png": "[encoded data removed]",
            "text/plain": [
              "<Figure size 432x288 with 1 Axes>"
            ]
          },
          "metadata": {
            "needs_background": "light"
          }
        }
      ]
    },
    {
      "cell_type": "code",
      "metadata": {
        "colab": {
          "base_uri": "https://localhost:8080/",
          "height": 299
        },
        "id": "4rZycWFBmu4W",
        "outputId": "62d98f93-7b48-4dfb-fff8-cf8da9ae1e6d"
      },
      "source": [
        "plt.plot(K,bet,color='black')\n",
        "plt.title('Average centrality measure f(k)')\n",
        "plt.xlabel(r'Degree',fontsize=14)\n",
        "plt.ylabel('Betweenness Centrality',fontsize=14);"
      ],
      "execution_count": null,
      "outputs": [
        {
          "output_type": "display_data",
          "data": {
            "image/png": "[encoded data removed]",
            "text/plain": [
              "<Figure size 432x288 with 1 Axes>"
            ]
          },
          "metadata": {
            "needs_background": "light"
          }
        }
      ]
    },
    {
      "cell_type": "code",
      "metadata": {
        "colab": {
          "base_uri": "https://localhost:8080/",
          "height": 299
        },
        "id": "dXSjpNOWmztG",
        "outputId": "4b3eff4c-b42d-4df3-ccfe-87ef3a884e2d"
      },
      "source": [
        "plt.plot(K,clo,color='black')\n",
        "plt.title('Average centrality measure f(k)')\n",
        "plt.xlabel(r'Degree',fontsize=14)\n",
        "plt.ylabel('Closeness Centrality',fontsize=14);"
      ],
      "execution_count": null,
      "outputs": [
        {
          "output_type": "display_data",
          "data": {
            "image/png": "[encoded data removed]",
            "text/plain": [
              "<Figure size 432x288 with 1 Axes>"
            ]
          },
          "metadata": {
            "needs_background": "light"
          }
        }
      ]
    },
    {
      "cell_type": "code",
      "metadata": {
        "colab": {
          "base_uri": "https://localhost:8080/",
          "height": 392
        },
        "id": "En3VeWq4lDkN",
        "outputId": "0b4af167-58e5-4eb9-af37-1d3b9990d9aa"
      },
      "source": [
        "plt.plot(K,auth,color='blue')\n",
        "plt.plot(K,hub,color='red')\n",
        "plt.plot(K,bet,color='yellow')\n",
        "plt.plot(K,clo,color='grey')\n",
        "plt.plot(K,dc,color='green')\n",
        "print('betweenness: ', bet)\n",
        "print('hub score: ', hub_score)\n",
        "print('authority score: ', auth_score)\n",
        "print('closeness: ', clo)\n",
        "print('pagerank: ', pr)\n",
        "print('degree centrality: ', dc)"
      ],
      "execution_count": null,
      "outputs": [
        {
          "output_type": "stream",
          "name": "stdout",
          "text": [
            "betweenness:  [0.0002982568817002157, nan, 0.0003918079318421094, 0.0004166563999248178, 0.000466125159511795, 0.0005270143792580978, 0.0005860373893532493, 0.0006512121273309131, 0.0007084616605551178, 0.0007930142973740537, 0.0008577716684313492, 0.0009293895295747115, 0.001007186699058472, 0.001085989512034391, 0.0011691697599076998, 0.0012486652722967504, 0.0013311758717174079, 0.0014226252947532984, 0.0015049050454333185, 0.0016172770725493672, 0.001702960958063068, 0.0018068718730776254, 0.0019306629321083335, 0.0020299685290170242, 0.0021251712071857724, 0.0022555112477091657, 0.0023644880038713786, 0.0024540879270955273, 0.00258617693056365, 0.0027680277667340098, 0.0028077838887805356, 0.0030464475640347784, 0.0031073282975790264]\n",
            "hub score:  [0.47908798724304885, 0.6087299208994944, 0.4288261138978677, 0.8263720069006207, 0.5114812407231676, 0.5918666959964838, 0.41979654044398246, 0.647276975350432, 0.581257607495252, 0.7508874169892136, 0.5570781977848875, 0.6321302541684573, 0.6559105674811849, 0.6293737665406621, 0.5029952941051626, 0.6894004489737643, 0.8560061314881708, 0.7945978749926201, 0.8761573126277669, 0.6761417397341983, 0.8358984233661505, 0.7431031724177077, 0.6094437345703361, 0.7357641676140182, 0.4693448948081756, 0.5971944759086348, 0.5707519626138604, 0.7353635608662507, 0.7121502274842403, 0.9691119664208491, 0.7637337557865481, 0.4380221487490719, 0.8054432081910029, 0.6113281409322411, 0.6266438129851971, 0.6689734916643786, 0.6532482300122199, 0.7161016899289302, 0.5176886021250384, 0.7816875610267381, 0.566431938314339, 0.6208504071072253, 0.5455627352533504, 0.7941632839010091, 0.5620724379969682, 0.5886115080833613, 0.7829231136221211, 0.4975555799079667, 0.6577551552468217, 0.6167853347209509, 0.8468917821610424, 0.8105139663445154, 0.6313007205255099, 0.5080210643240227, 0.5899432402233448, 0.7150196768722573, 0.6823054492824576, 0.6509175667007532, 0.49551154015533755, 0.6958129146083109, 0.6926986606769082, 0.8763394248659111, 0.5705371461105525, 0.6537438252988003, 0.5894983518334583, 0.6225340162290137, 0.6463607035717052, 0.719606883044121, 0.6369404054792327, 0.7142549945429663, 0.5479242588298254, 0.7977272157051022, 0.48901478462879, 0.43455072214915513, 0.6338247846287572, 0.537142895628, 0.6987862181190957, 0.8982963827095816, 0.6850645639395699, 0.6702001247949223, 0.6262157435234884, 0.5771888164085703, 0.5834619826289204, 0.8026753022809834, 0.6455044397767457, 0.6009290932681395, 0.7243299429409763, 0.8052541995411433, 0.5564486191036762, 0.9245426574725852, 0.5220057765784945, 0.681406703408636, 0.49906568529744744, 0.6490494267263552, 0.7035531402048395, 0.6989044285685467, 0.5921099618287515, 0.9341062260646087, 0.7244541956041852, 0.45218342095534647, 0.4039177624121348, 0.5106678628758459, 0.6309551687625917, 0.5303673256496042, 0.7222543683838191, 0.7837275926074142, 0.8081764048354139, 0.5457460387605755, 0.5906980608083431, 0.519708085380829, 0.972501101005722, 0.6704215171616218, 0.7344783297553704, 0.5569428477608903, 0.47356928005463084, 0.418496852017808, 0.6630286053253814, 0.5579448338504587, 0.584674598345354, 0.5620248985224052, 0.575580275913376, 0.5597593637809427, 0.5233161518662396, 0.42925850888478406, 0.776938572007, 0.7656238062682775, 0.6087450274937322, 0.7348404775564835, 0.5903847664701418, 0.6435929112236856, 0.5534933288852885, 0.9200243434841744, 0.854785085062962, 0.6631374656701533, 0.6690840216106966, 0.561281241601981, 0.9850165547799937, 0.7493826401167348, 0.5716641177331234, 0.4599604052091184, 0.6075219519490856, 0.5352305514525051, 0.6352460936115819, 0.6033770321377435, 0.584351993195574, 0.5322072069833201, 0.5278165048261189, 0.6125228101525425, 0.475902559554722, 0.4386494826706998, 0.4988845836050005, 0.5283419245073908, 0.5594369233130706, 0.5508895820583722, 0.7542278821362828, 0.8861381850417728, 0.64985427736159, 0.5510770966541725, 0.6753725363915226, 0.6647997631339074, 0.5993621351449273, 0.7044853537818452, 0.5059265300818324, 0.6583584646823665, 0.47195778977011743, 0.5988307302036769, 0.5046332404413869, 0.7656017105237993, 0.4015613139266513, 0.5918252010408496, 0.4990875671475335, 0.8290765605749465, 0.4127716747616375, 0.6985168720648125, 0.5396235494283179, 0.6801285500012707, 0.722626120900474, 0.7203288018700458, 0.5144804932808957, 0.6460807163784281, 0.6422153345341701, 0.5317906636647595, 0.6415985091405766, 0.5007354802276416, 0.5040303050440598, 0.615821942462225, 0.44978443908505766, 0.7186115693011907, 0.6664399049275034, 0.6579268015881713, 0.654130662651077, 0.6989800868895888, 0.4490574192893197, 0.7164017902159378, 0.8099974359406761, 0.78203497247778, 0.7941911885951735, 0.5294018393509423, 0.5375059178327422, 0.5611457911052511, 0.3664473174089618, 0.7555318111596964, 0.8437427132066523, 0.4669801961960459, 0.8706669895181769, 0.7695241307961763, 0.6446613051887864, 0.5508915760904189, 0.6282000363286866, 0.7455401825611353, 0.8123455716224287, 0.7749850014459887, 0.7347232218472397, 0.7635765098691178, 0.7700351188913477, 0.5985400751704469, 0.6521288111743344, 0.6725607804611637, 0.4805796323883144, 0.6641703259479337, 0.7336848711521395, 0.6478016628499409, 0.5640896321305543, 0.41886603990648485, 0.8266121843524488, 0.7393805189127507, 0.6466813135091777, 0.6109442335146338, 0.5881805816979587, 0.7896198237215524, 0.544457670741563, 0.5891198341995807, 0.6322698409121222, 0.8642037234758843, 0.6746627589862513, 0.5889221327219053, 0.6449574875382593, 0.8141079966248794, 0.5174869305796042, 0.7060513423562061, 0.6630731288670936, 0.6723193506584452, 0.49096043296429875, 0.6452686206042013, 0.46483327664438984, 0.7412290265284577, 0.6530342557064039, 0.6603889657983659, 0.3860732274107315, 0.5397147734550248, 0.6199678726101691, 0.5521455094638098, 0.49374263271219954, 0.5920792179367842, 0.41800092615865975, 0.6902132635489167, 0.8147678892065375, 0.645258165448028, 0.4679362491332423, 0.639735277809958, 0.5032787717247215, 0.887725038589271, 0.7825837236761451, 0.567036417501649, 0.6279315749013421, 0.6783547190736079, 0.5687290557516396, 0.48025726416357406, 0.7218788680133845, 0.8026656109091708, 0.6070089300588147, 0.5938783294387281, 0.7216246785532361, 0.7411805269052782, 0.5384307693157455, 0.4958512606366707, 0.554604418224945, 0.5721508362737968, 0.6244712873330884, 0.5971086151243239, 0.7216709881164572, 0.6361238917008403, 0.7334525549862377, 0.8947959860962114, 0.7198903292889868, 0.6360242283482217, 0.45499952004629235, 0.6753802642401415, 0.5282513188212636, 0.7013083565888137, 0.7924477943600347, 0.7010277663303168, 0.650531143518574, 0.6320817958001024, 0.7182723144572768, 0.5284040585171319, 0.4128018528547887, 0.7491710372487593, 0.4521605447500075, 0.5536568829025591, 0.6658859519046766, 0.6825145981941991, 0.6554270451254643, 0.6714519004227213, 0.6115369120276372, 0.8132151735690931, 0.6388470059176784, 0.7641672901490684, 0.6693100177741251, 0.5548359963954022, 0.8784766775659981, 0.5308228637084088, 0.7730474415243701, 0.7679493588948894, 0.5321196866829201, 0.5140023221172644, 0.9651242473716185, 0.7198628338204408, 0.5240981320680523, 0.8837919988142778, 0.6867191712415273, 0.6838371677543731, 0.5829362714397098, 0.7351478773048478, 0.5530876827536962, 0.5901109189050807, 0.49617080434970245, 0.6206993952496676, 0.4944491222198042, 0.5810843763908334, 0.7650800001941759, 0.6145383943064238, 0.81417430946038, 0.6441257687972606, 0.7161607958722962, 0.5253102666514582, 0.5845342162489935, 0.5617530012932259, 0.7443764898846773, 0.731418249972037, 0.4871873412807114, 0.7523003769723192, 0.5954552972088566, 0.6884172235502525, 0.5413006601424404, 0.7976309827878675, 0.6447574040470557, 0.7100832004239286, 0.7316008554901913, 0.6119603776707707, 0.7584390533615447, 0.5162793930642727, 0.6766505673827258, 0.7907049191301961, 0.5588558106962247, 0.6099488111040454, 0.6649542809852335, 0.6184285152770449, 0.4416753833674996, 0.9999999999999999, 0.7139886363424358, 0.455689617985279, 0.7261249185795363, 0.7547515080521151, 0.7147885305309088, 0.7315660513289922, 0.682813147921987, 0.5584597027684931, 0.6639693550613771, 0.7458145127752481, 0.37797933977170156, 0.5953202972489027, 0.5213513372317186, 0.6596454352462864, 0.5799999709638614, 0.5398269282397669, 0.739612749289488, 0.5306972756991761, 0.5092224539433969, 0.4891908942824179, 0.4397439712627975, 0.4823997135792289, 0.7279679400115959, 0.8718019548554714, 0.5727185975477781, 0.7888697813023248, 0.6589653879223716, 0.5945562266297115, 0.5530800887397325, 0.560748777958138, 0.9189983772024619, 0.553225324640991, 0.5814124789079139, 0.5299146401171088, 0.6881363691276214, 0.8837315022227209, 0.3937147828831309, 0.6062962187230108, 0.32890754039501446, 0.6927465043193344, 0.6295795826367466, 0.747623886296527, 0.7852457644941047, 0.5765970761914689, 0.4833535897447629, 0.6580262154963643, 0.5697428606764555, 0.5757133255954252, 0.5489079558003735, 0.6826652789848542, 0.5026594116687295, 0.7497347731759338, 0.44838654759280855, 0.6199365511995074, 0.7315678186957344, 0.707707541920975, 0.771102086640083, 0.5124444032439067, 0.7681497271081063, 0.742693512596575, 0.7228429523054399, 0.7488619737413271, 0.6193812746812817, 0.6326700776719321, 0.6235062512010168, 0.723250183888242, 0.7419457911326742, 0.6286558145358541, 0.45585779628213235, 0.6759734771056476, 0.6097538931405283, 0.7141121042613495, 0.5735309481478487, 0.5088994820264398, 0.5671735572540599, 0.5700591293101454, 0.6821013961552134, 0.624366600087124, 0.7876317946939869, 0.5036136882751641, 0.4213617079040668, 0.631340519927809, 0.6464995283484954, 0.7185145698419121, 0.6365807539601069, 0.6666946568356502, 0.8593116978508943, 0.8559518544583177, 0.6793964565894214, 0.6031962697231252, 0.6260091451059074, 0.6388174722582324, 0.6331322286108856, 0.6765062667120337, 0.5929096934382865, 0.6190817800450222, 0.5396647724604957, 0.7719317775797235, 0.7835709415655658, 0.560558119403204, 0.5390933170155779, 0.6217444574704523, 0.5779972013287037, 0.6591047113659448, 0.6384684606137822, 0.7718722921567823, 0.5193407893381901, 0.6157438965305998, 0.6145257450976352, 0.5373196469373532, 0.514301787124199, 0.6803696500413549, 0.7422277589885419, 0.701078992328111, 0.5512746622554523, 0.9576376830641135, 0.6264504078298405, 0.7310247677578645, 0.48858104518336726, 0.5595596572733171, 0.7379106908251062, 0.6215485889651479, 0.5203605604083518, 0.38082224098997913, 0.5703854792508378, 0.6952681218258652, 0.7257751656357562, 0.7234550469397211, 0.4322450783021656, 0.5579104922276056, 0.5712844141212255, 0.5603616292922985, 0.5148645791588291, 0.7858135512035498, 0.8145819326044648, 0.7188633831796201, 0.5008253791698307, 0.4853304471671775, 0.4794349236831175, 0.5349186055049668, 0.7028692215548513, 0.6274557902097159, 0.5965757662220412, 0.586955286447229, 0.5731185764153882, 0.5533363037762336, 0.8272959304761891, 0.6539520791231442, 0.6549677463467135, 0.30522336698409025, 0.7058715064400644, 0.624017141429222, 0.44170677374083644, 0.5180268581876887, 0.5303358898930541, 0.5463020659771186, 0.8315922442538863, 0.6749373227725669, 0.6562148097852684, 0.6805307042074493, 0.8447144662782274, 0.3793563422115848, 0.7640575573283418, 0.7428024027186012, 0.5709684086190682, 0.6685243372086979, 0.48351412221769585, 0.658854960636975, 0.7081565989160202, 0.693807925952926, 0.7528946121089396, 0.6614216153619683, 0.3745436960700417, 0.6433583054020289, 0.6085939649663149, 0.9012944399313363, 0.4047494837250893, 0.6808798546778503, 0.3902128235733859, 0.5644724269674205, 0.6156572562520874, 0.6057009368126043, 0.4803884786951225, 0.5935649154430241, 0.5855591804907171, 0.6118305418591286, 0.39118584514034205, 0.6948713057910479, 0.7119476067956332, 0.6197764855298286, 0.5248030341794778, 0.6899603289260893, 0.7204169866717469, 0.4632363545234155, 0.5743483492364255, 0.8470894299116257, 0.4379693323902941, 0.6254855417926007, 0.7823124495375177, 0.6830147442827164, 0.5262713781154574, 0.5861205173398267, 0.3984276215527502, 0.8470748306834839, 0.8705791405762798, 0.4720017663275037, 0.676910972662487, 0.6745997280608732, 0.6054800201845746, 0.49634781821254836, 0.6660409940975507, 0.6495754092194926, 0.9376773765388767, 0.5255630103807007, 0.4776286285692918, 0.5392313680724214, 0.6887323675043459, 0.6107547654811192, 0.8270517373598084, 0.49141665779258137, 0.7452649897900825, 0.559971247119161, 0.6969366157248541, 0.5649051012830686, 0.6094822183429365, 0.7358803853258605, 0.5109864657734579, 0.45468916293022377, 0.7585986115121597, 0.5981255763348492, 0.5776664366570534, 0.42678715653242194, 0.6525773888470214, 0.4779000501860981, 0.6439668582975393, 0.8541773451618133, 0.7444578130855101, 0.5746012020263562, 0.6859623691620053, 0.608715712550128, 0.6699840054380131, 0.8815567405622292, 0.5357557943478046, 0.5424297479896154, 0.25273577356152344, 0.5088937796731375, 0.6578968048471905, 0.6100471960694127, 0.4635151902447706, 0.6150562956495409, 0.6563160529567922, 0.6819859001718469, 0.7683103470875183, 0.6283469945637772, 0.5512944006633813, 0.6907810308551666, 0.45837945937455976, 0.4485078759932101, 0.6632049886403765, 0.4712382142607583, 0.527220806973794, 0.6209773958730929, 0.5258073558671653, 0.5646707330995087, 0.6764823118971285, 0.6690701248988322, 0.6933416729589384, 0.6571556868420342, 0.7458718895200753, 0.48389616000467384, 0.5221059649654234, 0.7369764284412685, 0.6564947366750695, 0.6554978075336803, 0.7628488763119436, 0.6395056458458915, 0.522054414948818, 0.6836561846501144, 0.5669453227456225, 0.5810642987451217, 0.697806345076237, 0.6576004051117196, 0.5391657117926403, 0.8228227384626002, 0.7281253376360521, 0.6744878529441192, 0.7093750259683813, 0.570250545405582, 0.5188473440842132, 0.6672112836565494, 0.4624688793750785, 0.46147399629447455, 0.46514537988838756, 0.3968966833842133, 0.5995351470245732, 0.6361427437377094, 0.480774630992905, 0.5672071721126063, 0.799485506835139, 0.6661203236846718, 0.5233648350889829, 0.6206188902543996, 0.5885208281330572, 0.6094353866642921, 0.7523523544115617, 0.6354636441462395, 0.5305156276672852, 0.6442246300273083, 0.5466271698178111, 0.5304914491591708, 0.6660662446776553, 0.3898290523161354, 0.6725818205203535, 0.5675654135966499, 0.5185926539450179, 0.5973416386696438, 0.5289508782899692, 0.5735125781294202, 0.7278116529156342, 0.677772503544312, 0.6864807204655221, 0.504785577847482, 0.5545137360978797, 0.7481526552858411, 0.6979115785089607, 0.7517730813225183, 0.5147267278456301, 0.6865865204136855, 0.6201460884790938, 0.7529037171674497, 0.6797173884528904, 0.7408545334292579, 0.6750111205847994, 0.6825526370892412, 0.65759163292696, 0.6781668517669003, 0.5634534146037552, 0.623374492954344, 0.5066646561393673, 0.7317682522929474, 0.40604827138743516, 0.4880591239031378, 0.5488397094284556, 0.7667034422066809, 0.7529319965962564, 0.7113563504756204, 0.6093909990192352, 0.8312782280301982, 0.6400868041123795, 0.753726455618391, 0.6249829774484835, 0.8379130325949999, 0.7081738221927311, 0.6477705205074791, 0.8411585726327155, 0.5585322431162651, 0.39407986292081, 0.5393885058148019, 0.7291607526898721, 0.61304562021529, 0.5558481655401553, 0.5156478689284667, 0.3696048620579677, 0.730657705795001, 0.7071648171866397, 0.737638369447592, 0.554801455690215, 0.551210739129379, 0.5532494761202899, 0.7095356490595077, 0.8338707762245903, 0.6687528003834491, 0.45295654864836216, 0.6426846763222746, 0.7258542908265765, 0.8784971708811267, 0.6389734803514501, 0.7709795859030333, 0.36729140526661697, 0.45749720309566394, 0.5797954356100502, 0.4698273864488117, 0.5844147707056716, 0.7741617375172695, 0.6464223044739087, 0.5733654891055108, 0.8721063893177711, 0.5909799416306173, 0.7636189149530077, 0.5970926043207606, 0.6870902667606574, 0.7433370427721842, 0.4229999552302329, 0.6775717353014429, 0.5122037180494697, 0.7490458452717087, 0.7222824543737069, 0.5624171715111318, 0.6150463208595374, 0.5879242096356586, 0.7390894636278907, 0.8284328675185327, 0.5996932375441065, 0.618403088601359, 0.43275987116498754, 0.6141024287706421, 0.63818732261385, 0.6117606771172526, 0.735032268711292, 0.5344150250337378, 0.5340298117096498, 0.6203801720697526, 0.554362667817462, 0.6423999062749873, 0.6535544165806488, 0.7787442405779483, 0.651692533936842, 0.8836474905458074, 0.7009012195375234, 0.49888313033717757, 0.8326776641916163, 0.60640070302652, 0.6284876870907765, 0.6616349031211259, 0.528667014086751, 0.6116077722066825, 0.6181032007667199, 0.5650092958197347, 0.6281650938210903, 0.5220502794061338, 0.7345915981522639, 0.5697694934422869, 0.4854725509843178, 0.6927905361419467, 0.7268266717541817, 0.6323165644889848, 0.5204810212967095, 0.783154849424022, 0.5689238809781803, 0.7334795557458738, 0.7115434827778929, 0.7757708125170132, 0.5191719902543748, 0.5744943087933783, 0.7865537431702224, 0.5590041216408305, 0.696104077471253, 0.6135541894886192, 0.5278459337840046, 0.7797737828179871, 0.8446547513899946, 0.5820155456485644, 0.7234928447949411, 0.5856276442088373, 0.7310094499862914, 0.5088311403070364, 0.7249083775338413, 0.44189909419194545, 0.5078186539577524, 0.5763878970934325, 0.47348382373001285, 0.5432190690382921, 0.4901492852162149, 0.5636601750615424, 0.6135663215893135, 0.6857097114588911, 0.8169196068612846, 0.5487827972997629, 0.6529897538375071, 0.6077662056315007, 0.4473660012029623, 0.7103403139678371, 0.6102181779769077, 0.42817192602954424, 0.5908980547747922, 0.5602731966075721, 0.5136651267059689, 0.4603414014652866, 0.5483706053910319, 0.82475599630197, 0.6530233735120474, 0.63033891682601, 0.7244218859283801, 0.9895091796588003, 0.4523245650621023, 0.7254203967088415, 0.6597815854144258, 0.5723796445520131, 0.6367480713204693, 0.47522845064089986, 0.6577784000247593, 0.6141165449497592, 0.4505787304607168, 0.726662143414028, 0.6840725879441073, 0.7032115501870407, 0.5033669036968427, 0.48748648376683895, 0.6388873387443572, 0.6109870349705445, 0.6862898552761272, 0.515473654862219, 0.789965128429953, 0.753075407557062, 0.4681913978285884, 0.5088445180614068, 0.4894114935757178, 0.3040740466070099, 0.5333085615802363, 0.6938837391634025, 0.6991495570409784, 0.5629627988102994, 0.639956110063655, 0.7175900145084744, 0.5098097651022534, 0.6003291126064672, 0.4999279609908089, 0.5716796546972573, 0.5663970860521873, 0.6363496241509078, 0.6687069355698232, 0.7529051881387689, 0.7050650246379768, 0.6793043962172078, 0.6432932723368207, 0.5663456142712083, 0.5768021934244619, 0.7260009051262206, 0.6680212371233154, 0.5796032257846061, 0.475076491420852, 0.4691121038922099, 0.60210456321711, 0.6038252112097934, 0.6101105660743732, 0.591444750188381, 0.5760019975112431, 0.4635926734603501, 0.7635107381250623, 0.8288361665680167, 0.5859199847543279, 0.5113175464266004, 0.4012142035133931, 0.5836770449867524, 0.6306932176184512, 0.6814843265234343, 0.5903832376140444, 0.6637283370696058, 0.7443093315871375, 0.7151628591579909, 0.5806413081073114, 0.6091637361825473, 0.557132027184487, 0.46976720516364395, 0.7721162838291017, 0.7435836721831052, 0.6813162696476962, 0.6618399577176995, 0.546156305971487, 0.6225703948391031, 0.6641452056771212, 0.5478826043471807, 0.636100019198359, 0.4832521420233353, 0.5046314032760995, 0.7594614082407095, 0.5401170616710019, 0.6015964499808002, 0.6348445465389015, 0.7709365365065981, 0.6356711086734259, 0.535384304876963, 0.46381645618311224, 0.5943416600741693, 0.6909672566213919, 0.6655344806640795, 0.7761376463697413, 0.4918603003215598, 0.5071107186583834, 0.6903103542966298, 0.6767443377325879, 0.518635808971679, 0.5748559140883146, 0.5433371747937503, 0.6359208860026373, 0.683252243858026, 0.5849702621299966, 0.450111476279458, 0.5050591523293518, 0.5549891856093925, 0.533006375599501, 0.7032831432899992, 0.35684415813198966, 0.6816489628108137, 0.839998518561337, 0.5958135839728772, 0.3067043838099257, 0.5599927107611443, 0.6165790408853611, 0.479710557060861, 0.7488590278597629, 0.7446969809660597, 0.4955381040804213, 0.5573811365023241, 0.3799466683123297, 0.6493677864569487, 0.5276878131261616, 0.6757969209327072, 0.5907921223054317, 0.5854251318771679, 0.48395490817222303, 0.5443638387446045, 0.5504802194739489, 0.4515637412858985, 0.4598292167603727, 0.3809170209186919, 0.5666866147602607, 0.8195782102709623, 0.6405634273038743, 0.6054855629146177, 0.34602513099722887, 0.6178087285996173, 0.6103844988222413, 0.35521655197628516, 0.6293404392957652, 0.3887416256740793, 0.5195394252213442, 0.4650622459222996, 0.456799376259166, 0.7527115469582842, 0.5103601409290706, 0.9449676184041752, 0.6832956970856597, 0.6331633396603692, 0.41555140660062984, 0.5774540904992482, 0.5683753097978397, 0.4583831405510499, 0.5661018911146355, 0.5293307831139461]\n",
            "authority score:  [0.47908798724304885, 0.6087299208994944, 0.4288261138978677, 0.8263720069006207, 0.5114812407231676, 0.5918666959964838, 0.41979654044398246, 0.647276975350432, 0.581257607495252, 0.7508874169892136, 0.5570781977848875, 0.6321302541684573, 0.6559105674811849, 0.6293737665406621, 0.5029952941051626, 0.6894004489737643, 0.8560061314881708, 0.7945978749926201, 0.8761573126277669, 0.6761417397341983, 0.8358984233661505, 0.7431031724177077, 0.6094437345703361, 0.7357641676140182, 0.4693448948081756, 0.5971944759086348, 0.5707519626138604, 0.7353635608662507, 0.7121502274842403, 0.9691119664208491, 0.7637337557865481, 0.4380221487490719, 0.8054432081910029, 0.6113281409322411, 0.6266438129851971, 0.6689734916643786, 0.6532482300122199, 0.7161016899289302, 0.5176886021250384, 0.7816875610267381, 0.566431938314339, 0.6208504071072253, 0.5455627352533504, 0.7941632839010091, 0.5620724379969682, 0.5886115080833613, 0.7829231136221211, 0.4975555799079667, 0.6577551552468217, 0.6167853347209509, 0.8468917821610424, 0.8105139663445154, 0.6313007205255099, 0.5080210643240227, 0.5899432402233448, 0.7150196768722573, 0.6823054492824576, 0.6509175667007532, 0.49551154015533755, 0.6958129146083109, 0.6926986606769082, 0.8763394248659111, 0.5705371461105525, 0.6537438252988003, 0.5894983518334583, 0.6225340162290137, 0.6463607035717052, 0.719606883044121, 0.6369404054792327, 0.7142549945429663, 0.5479242588298254, 0.7977272157051022, 0.48901478462879, 0.43455072214915513, 0.6338247846287572, 0.537142895628, 0.6987862181190957, 0.8982963827095816, 0.6850645639395699, 0.6702001247949223, 0.6262157435234884, 0.5771888164085703, 0.5834619826289204, 0.8026753022809834, 0.6455044397767457, 0.6009290932681395, 0.7243299429409763, 0.8052541995411433, 0.5564486191036762, 0.9245426574725852, 0.5220057765784945, 0.681406703408636, 0.49906568529744744, 0.6490494267263552, 0.7035531402048395, 0.6989044285685467, 0.5921099618287515, 0.9341062260646087, 0.7244541956041852, 0.45218342095534647, 0.4039177624121348, 0.5106678628758459, 0.6309551687625917, 0.5303673256496042, 0.7222543683838191, 0.7837275926074142, 0.8081764048354139, 0.5457460387605755, 0.5906980608083431, 0.519708085380829, 0.972501101005722, 0.6704215171616218, 0.7344783297553704, 0.5569428477608903, 0.47356928005463084, 0.418496852017808, 0.6630286053253814, 0.5579448338504587, 0.584674598345354, 0.5620248985224052, 0.575580275913376, 0.5597593637809427, 0.5233161518662396, 0.42925850888478406, 0.776938572007, 0.7656238062682775, 0.6087450274937322, 0.7348404775564835, 0.5903847664701418, 0.6435929112236856, 0.5534933288852885, 0.9200243434841744, 0.854785085062962, 0.6631374656701533, 0.6690840216106966, 0.561281241601981, 0.9850165547799937, 0.7493826401167348, 0.5716641177331234, 0.4599604052091184, 0.6075219519490856, 0.5352305514525051, 0.6352460936115819, 0.6033770321377435, 0.584351993195574, 0.5322072069833201, 0.5278165048261189, 0.6125228101525425, 0.475902559554722, 0.4386494826706998, 0.4988845836050005, 0.5283419245073908, 0.5594369233130706, 0.5508895820583722, 0.7542278821362828, 0.8861381850417728, 0.64985427736159, 0.5510770966541725, 0.6753725363915226, 0.6647997631339074, 0.5993621351449273, 0.7044853537818452, 0.5059265300818324, 0.6583584646823665, 0.47195778977011743, 0.5988307302036769, 0.5046332404413869, 0.7656017105237993, 0.4015613139266513, 0.5918252010408496, 0.4990875671475335, 0.8290765605749465, 0.4127716747616375, 0.6985168720648125, 0.5396235494283179, 0.6801285500012707, 0.722626120900474, 0.7203288018700458, 0.5144804932808957, 0.6460807163784281, 0.6422153345341701, 0.5317906636647595, 0.6415985091405766, 0.5007354802276416, 0.5040303050440598, 0.615821942462225, 0.44978443908505766, 0.7186115693011907, 0.6664399049275034, 0.6579268015881713, 0.654130662651077, 0.6989800868895888, 0.4490574192893197, 0.7164017902159378, 0.8099974359406761, 0.78203497247778, 0.7941911885951735, 0.5294018393509423, 0.5375059178327422, 0.5611457911052511, 0.3664473174089618, 0.7555318111596964, 0.8437427132066523, 0.4669801961960459, 0.8706669895181769, 0.7695241307961763, 0.6446613051887864, 0.5508915760904189, 0.6282000363286866, 0.7455401825611353, 0.8123455716224287, 0.7749850014459887, 0.7347232218472397, 0.7635765098691178, 0.7700351188913477, 0.5985400751704469, 0.6521288111743344, 0.6725607804611637, 0.4805796323883144, 0.6641703259479337, 0.7336848711521395, 0.6478016628499409, 0.5640896321305543, 0.41886603990648485, 0.8266121843524488, 0.7393805189127507, 0.6466813135091777, 0.6109442335146338, 0.5881805816979587, 0.7896198237215524, 0.544457670741563, 0.5891198341995807, 0.6322698409121222, 0.8642037234758843, 0.6746627589862513, 0.5889221327219053, 0.6449574875382593, 0.8141079966248794, 0.5174869305796042, 0.7060513423562061, 0.6630731288670936, 0.6723193506584452, 0.49096043296429875, 0.6452686206042013, 0.46483327664438984, 0.7412290265284577, 0.6530342557064039, 0.6603889657983659, 0.3860732274107315, 0.5397147734550248, 0.6199678726101691, 0.5521455094638098, 0.49374263271219954, 0.5920792179367842, 0.41800092615865975, 0.6902132635489167, 0.8147678892065375, 0.645258165448028, 0.4679362491332423, 0.639735277809958, 0.5032787717247215, 0.887725038589271, 0.7825837236761451, 0.567036417501649, 0.6279315749013421, 0.6783547190736079, 0.5687290557516396, 0.48025726416357406, 0.7218788680133845, 0.8026656109091708, 0.6070089300588147, 0.5938783294387281, 0.7216246785532361, 0.7411805269052782, 0.5384307693157455, 0.4958512606366707, 0.554604418224945, 0.5721508362737968, 0.6244712873330884, 0.5971086151243239, 0.7216709881164572, 0.6361238917008403, 0.7334525549862377, 0.8947959860962114, 0.7198903292889868, 0.6360242283482217, 0.45499952004629235, 0.6753802642401415, 0.5282513188212636, 0.7013083565888137, 0.7924477943600347, 0.7010277663303168, 0.650531143518574, 0.6320817958001024, 0.7182723144572768, 0.5284040585171319, 0.4128018528547887, 0.7491710372487593, 0.4521605447500075, 0.5536568829025591, 0.6658859519046766, 0.6825145981941991, 0.6554270451254643, 0.6714519004227213, 0.6115369120276372, 0.8132151735690931, 0.6388470059176784, 0.7641672901490684, 0.6693100177741251, 0.5548359963954022, 0.8784766775659981, 0.5308228637084088, 0.7730474415243701, 0.7679493588948894, 0.5321196866829201, 0.5140023221172644, 0.9651242473716185, 0.7198628338204408, 0.5240981320680523, 0.8837919988142778, 0.6867191712415273, 0.6838371677543731, 0.5829362714397098, 0.7351478773048478, 0.5530876827536962, 0.5901109189050807, 0.49617080434970245, 0.6206993952496676, 0.4944491222198042, 0.5810843763908334, 0.7650800001941759, 0.6145383943064238, 0.81417430946038, 0.6441257687972606, 0.7161607958722962, 0.5253102666514582, 0.5845342162489935, 0.5617530012932259, 0.7443764898846773, 0.731418249972037, 0.4871873412807114, 0.7523003769723192, 0.5954552972088566, 0.6884172235502525, 0.5413006601424404, 0.7976309827878675, 0.6447574040470557, 0.7100832004239286, 0.7316008554901913, 0.6119603776707707, 0.7584390533615447, 0.5162793930642727, 0.6766505673827258, 0.7907049191301961, 0.5588558106962247, 0.6099488111040454, 0.6649542809852335, 0.6184285152770449, 0.4416753833674996, 0.9999999999999999, 0.7139886363424358, 0.455689617985279, 0.7261249185795363, 0.7547515080521151, 0.7147885305309088, 0.7315660513289922, 0.682813147921987, 0.5584597027684931, 0.6639693550613771, 0.7458145127752481, 0.37797933977170156, 0.5953202972489027, 0.5213513372317186, 0.6596454352462864, 0.5799999709638614, 0.5398269282397669, 0.739612749289488, 0.5306972756991761, 0.5092224539433969, 0.4891908942824179, 0.4397439712627975, 0.4823997135792289, 0.7279679400115959, 0.8718019548554714, 0.5727185975477781, 0.7888697813023248, 0.6589653879223716, 0.5945562266297115, 0.5530800887397325, 0.560748777958138, 0.9189983772024619, 0.553225324640991, 0.5814124789079139, 0.5299146401171088, 0.6881363691276214, 0.8837315022227209, 0.3937147828831309, 0.6062962187230108, 0.32890754039501446, 0.6927465043193344, 0.6295795826367466, 0.747623886296527, 0.7852457644941047, 0.5765970761914689, 0.4833535897447629, 0.6580262154963643, 0.5697428606764555, 0.5757133255954252, 0.5489079558003735, 0.6826652789848542, 0.5026594116687295, 0.7497347731759338, 0.44838654759280855, 0.6199365511995074, 0.7315678186957344, 0.707707541920975, 0.771102086640083, 0.5124444032439067, 0.7681497271081063, 0.742693512596575, 0.7228429523054399, 0.7488619737413271, 0.6193812746812817, 0.6326700776719321, 0.6235062512010168, 0.723250183888242, 0.7419457911326742, 0.6286558145358541, 0.45585779628213235, 0.6759734771056476, 0.6097538931405283, 0.7141121042613495, 0.5735309481478487, 0.5088994820264398, 0.5671735572540599, 0.5700591293101454, 0.6821013961552134, 0.624366600087124, 0.7876317946939869, 0.5036136882751641, 0.4213617079040668, 0.631340519927809, 0.6464995283484954, 0.7185145698419121, 0.6365807539601069, 0.6666946568356502, 0.8593116978508943, 0.8559518544583177, 0.6793964565894214, 0.6031962697231252, 0.6260091451059074, 0.6388174722582324, 0.6331322286108856, 0.6765062667120337, 0.5929096934382865, 0.6190817800450222, 0.5396647724604957, 0.7719317775797235, 0.7835709415655658, 0.560558119403204, 0.5390933170155779, 0.6217444574704523, 0.5779972013287037, 0.6591047113659448, 0.6384684606137822, 0.7718722921567823, 0.5193407893381901, 0.6157438965305998, 0.6145257450976352, 0.5373196469373532, 0.514301787124199, 0.6803696500413549, 0.7422277589885419, 0.701078992328111, 0.5512746622554523, 0.9576376830641135, 0.6264504078298405, 0.7310247677578645, 0.48858104518336726, 0.5595596572733171, 0.7379106908251062, 0.6215485889651479, 0.5203605604083518, 0.38082224098997913, 0.5703854792508378, 0.6952681218258652, 0.7257751656357562, 0.7234550469397211, 0.4322450783021656, 0.5579104922276056, 0.5712844141212255, 0.5603616292922985, 0.5148645791588291, 0.7858135512035498, 0.8145819326044648, 0.7188633831796201, 0.5008253791698307, 0.4853304471671775, 0.4794349236831175, 0.5349186055049668, 0.7028692215548513, 0.6274557902097159, 0.5965757662220412, 0.586955286447229, 0.5731185764153882, 0.5533363037762336, 0.8272959304761891, 0.6539520791231442, 0.6549677463467135, 0.30522336698409025, 0.7058715064400644, 0.624017141429222, 0.44170677374083644, 0.5180268581876887, 0.5303358898930541, 0.5463020659771186, 0.8315922442538863, 0.6749373227725669, 0.6562148097852684, 0.6805307042074493, 0.8447144662782274, 0.3793563422115848, 0.7640575573283418, 0.7428024027186012, 0.5709684086190682, 0.6685243372086979, 0.48351412221769585, 0.658854960636975, 0.7081565989160202, 0.693807925952926, 0.7528946121089396, 0.6614216153619683, 0.3745436960700417, 0.6433583054020289, 0.6085939649663149, 0.9012944399313363, 0.4047494837250893, 0.6808798546778503, 0.3902128235733859, 0.5644724269674205, 0.6156572562520874, 0.6057009368126043, 0.4803884786951225, 0.5935649154430241, 0.5855591804907171, 0.6118305418591286, 0.39118584514034205, 0.6948713057910479, 0.7119476067956332, 0.6197764855298286, 0.5248030341794778, 0.6899603289260893, 0.7204169866717469, 0.4632363545234155, 0.5743483492364255, 0.8470894299116257, 0.4379693323902941, 0.6254855417926007, 0.7823124495375177, 0.6830147442827164, 0.5262713781154574, 0.5861205173398267, 0.3984276215527502, 0.8470748306834839, 0.8705791405762798, 0.4720017663275037, 0.676910972662487, 0.6745997280608732, 0.6054800201845746, 0.49634781821254836, 0.6660409940975507, 0.6495754092194926, 0.9376773765388767, 0.5255630103807007, 0.4776286285692918, 0.5392313680724214, 0.6887323675043459, 0.6107547654811192, 0.8270517373598084, 0.49141665779258137, 0.7452649897900825, 0.559971247119161, 0.6969366157248541, 0.5649051012830686, 0.6094822183429365, 0.7358803853258605, 0.5109864657734579, 0.45468916293022377, 0.7585986115121597, 0.5981255763348492, 0.5776664366570534, 0.42678715653242194, 0.6525773888470214, 0.4779000501860981, 0.6439668582975393, 0.8541773451618133, 0.7444578130855101, 0.5746012020263562, 0.6859623691620053, 0.608715712550128, 0.6699840054380131, 0.8815567405622292, 0.5357557943478046, 0.5424297479896154, 0.25273577356152344, 0.5088937796731375, 0.6578968048471905, 0.6100471960694127, 0.4635151902447706, 0.6150562956495409, 0.6563160529567922, 0.6819859001718469, 0.7683103470875183, 0.6283469945637772, 0.5512944006633813, 0.6907810308551666, 0.45837945937455976, 0.4485078759932101, 0.6632049886403765, 0.4712382142607583, 0.527220806973794, 0.6209773958730929, 0.5258073558671653, 0.5646707330995087, 0.6764823118971285, 0.6690701248988322, 0.6933416729589384, 0.6571556868420342, 0.7458718895200753, 0.48389616000467384, 0.5221059649654234, 0.7369764284412685, 0.6564947366750695, 0.6554978075336803, 0.7628488763119436, 0.6395056458458915, 0.522054414948818, 0.6836561846501144, 0.5669453227456225, 0.5810642987451217, 0.697806345076237, 0.6576004051117196, 0.5391657117926403, 0.8228227384626002, 0.7281253376360521, 0.6744878529441192, 0.7093750259683813, 0.570250545405582, 0.5188473440842132, 0.6672112836565494, 0.4624688793750785, 0.46147399629447455, 0.46514537988838756, 0.3968966833842133, 0.5995351470245732, 0.6361427437377094, 0.480774630992905, 0.5672071721126063, 0.799485506835139, 0.6661203236846718, 0.5233648350889829, 0.6206188902543996, 0.5885208281330572, 0.6094353866642921, 0.7523523544115617, 0.6354636441462395, 0.5305156276672852, 0.6442246300273083, 0.5466271698178111, 0.5304914491591708, 0.6660662446776553, 0.3898290523161354, 0.6725818205203535, 0.5675654135966499, 0.5185926539450179, 0.5973416386696438, 0.5289508782899692, 0.5735125781294202, 0.7278116529156342, 0.677772503544312, 0.6864807204655221, 0.504785577847482, 0.5545137360978797, 0.7481526552858411, 0.6979115785089607, 0.7517730813225183, 0.5147267278456301, 0.6865865204136855, 0.6201460884790938, 0.7529037171674497, 0.6797173884528904, 0.7408545334292579, 0.6750111205847994, 0.6825526370892412, 0.65759163292696, 0.6781668517669003, 0.5634534146037552, 0.623374492954344, 0.5066646561393673, 0.7317682522929474, 0.40604827138743516, 0.4880591239031378, 0.5488397094284556, 0.7667034422066809, 0.7529319965962564, 0.7113563504756204, 0.6093909990192352, 0.8312782280301982, 0.6400868041123795, 0.753726455618391, 0.6249829774484835, 0.8379130325949999, 0.7081738221927311, 0.6477705205074791, 0.8411585726327155, 0.5585322431162651, 0.39407986292081, 0.5393885058148019, 0.7291607526898721, 0.61304562021529, 0.5558481655401553, 0.5156478689284667, 0.3696048620579677, 0.730657705795001, 0.7071648171866397, 0.737638369447592, 0.554801455690215, 0.551210739129379, 0.5532494761202899, 0.7095356490595077, 0.8338707762245903, 0.6687528003834491, 0.45295654864836216, 0.6426846763222746, 0.7258542908265765, 0.8784971708811267, 0.6389734803514501, 0.7709795859030333, 0.36729140526661697, 0.45749720309566394, 0.5797954356100502, 0.4698273864488117, 0.5844147707056716, 0.7741617375172695, 0.6464223044739087, 0.5733654891055108, 0.8721063893177711, 0.5909799416306173, 0.7636189149530077, 0.5970926043207606, 0.6870902667606574, 0.7433370427721842, 0.4229999552302329, 0.6775717353014429, 0.5122037180494697, 0.7490458452717087, 0.7222824543737069, 0.5624171715111318, 0.6150463208595374, 0.5879242096356586, 0.7390894636278907, 0.8284328675185327, 0.5996932375441065, 0.618403088601359, 0.43275987116498754, 0.6141024287706421, 0.63818732261385, 0.6117606771172526, 0.735032268711292, 0.5344150250337378, 0.5340298117096498, 0.6203801720697526, 0.554362667817462, 0.6423999062749873, 0.6535544165806488, 0.7787442405779483, 0.651692533936842, 0.8836474905458074, 0.7009012195375234, 0.49888313033717757, 0.8326776641916163, 0.60640070302652, 0.6284876870907765, 0.6616349031211259, 0.528667014086751, 0.6116077722066825, 0.6181032007667199, 0.5650092958197347, 0.6281650938210903, 0.5220502794061338, 0.7345915981522639, 0.5697694934422869, 0.4854725509843178, 0.6927905361419467, 0.7268266717541817, 0.6323165644889848, 0.5204810212967095, 0.783154849424022, 0.5689238809781803, 0.7334795557458738, 0.7115434827778929, 0.7757708125170132, 0.5191719902543748, 0.5744943087933783, 0.7865537431702224, 0.5590041216408305, 0.696104077471253, 0.6135541894886192, 0.5278459337840046, 0.7797737828179871, 0.8446547513899946, 0.5820155456485644, 0.7234928447949411, 0.5856276442088373, 0.7310094499862914, 0.5088311403070364, 0.7249083775338413, 0.44189909419194545, 0.5078186539577524, 0.5763878970934325, 0.47348382373001285, 0.5432190690382921, 0.4901492852162149, 0.5636601750615424, 0.6135663215893135, 0.6857097114588911, 0.8169196068612846, 0.5487827972997629, 0.6529897538375071, 0.6077662056315007, 0.4473660012029623, 0.7103403139678371, 0.6102181779769077, 0.42817192602954424, 0.5908980547747922, 0.5602731966075721, 0.5136651267059689, 0.4603414014652866, 0.5483706053910319, 0.82475599630197, 0.6530233735120474, 0.63033891682601, 0.7244218859283801, 0.9895091796588003, 0.4523245650621023, 0.7254203967088415, 0.6597815854144258, 0.5723796445520131, 0.6367480713204693, 0.47522845064089986, 0.6577784000247593, 0.6141165449497592, 0.4505787304607168, 0.726662143414028, 0.6840725879441073, 0.7032115501870407, 0.5033669036968427, 0.48748648376683895, 0.6388873387443572, 0.6109870349705445, 0.6862898552761272, 0.515473654862219, 0.789965128429953, 0.753075407557062, 0.4681913978285884, 0.5088445180614068, 0.4894114935757178, 0.3040740466070099, 0.5333085615802363, 0.6938837391634025, 0.6991495570409784, 0.5629627988102994, 0.639956110063655, 0.7175900145084744, 0.5098097651022534, 0.6003291126064672, 0.4999279609908089, 0.5716796546972573, 0.5663970860521873, 0.6363496241509078, 0.6687069355698232, 0.7529051881387689, 0.7050650246379768, 0.6793043962172078, 0.6432932723368207, 0.5663456142712083, 0.5768021934244619, 0.7260009051262206, 0.6680212371233154, 0.5796032257846061, 0.475076491420852, 0.4691121038922099, 0.60210456321711, 0.6038252112097934, 0.6101105660743732, 0.591444750188381, 0.5760019975112431, 0.4635926734603501, 0.7635107381250623, 0.8288361665680167, 0.5859199847543279, 0.5113175464266004, 0.4012142035133931, 0.5836770449867524, 0.6306932176184512, 0.6814843265234343, 0.5903832376140444, 0.6637283370696058, 0.7443093315871375, 0.7151628591579909, 0.5806413081073114, 0.6091637361825473, 0.557132027184487, 0.46976720516364395, 0.7721162838291017, 0.7435836721831052, 0.6813162696476962, 0.6618399577176995, 0.546156305971487, 0.6225703948391031, 0.6641452056771212, 0.5478826043471807, 0.636100019198359, 0.4832521420233353, 0.5046314032760995, 0.7594614082407095, 0.5401170616710019, 0.6015964499808002, 0.6348445465389015, 0.7709365365065981, 0.6356711086734259, 0.535384304876963, 0.46381645618311224, 0.5943416600741693, 0.6909672566213919, 0.6655344806640795, 0.7761376463697413, 0.4918603003215598, 0.5071107186583834, 0.6903103542966298, 0.6767443377325879, 0.518635808971679, 0.5748559140883146, 0.5433371747937503, 0.6359208860026373, 0.683252243858026, 0.5849702621299966, 0.450111476279458, 0.5050591523293518, 0.5549891856093925, 0.533006375599501, 0.7032831432899992, 0.35684415813198966, 0.6816489628108137, 0.839998518561337, 0.5958135839728772, 0.3067043838099257, 0.5599927107611443, 0.6165790408853611, 0.479710557060861, 0.7488590278597629, 0.7446969809660597, 0.4955381040804213, 0.5573811365023241, 0.3799466683123297, 0.6493677864569487, 0.5276878131261616, 0.6757969209327072, 0.5907921223054317, 0.5854251318771679, 0.48395490817222303, 0.5443638387446045, 0.5504802194739489, 0.4515637412858985, 0.4598292167603727, 0.3809170209186919, 0.5666866147602607, 0.8195782102709623, 0.6405634273038743, 0.6054855629146177, 0.34602513099722887, 0.6178087285996173, 0.6103844988222413, 0.35521655197628516, 0.6293404392957652, 0.3887416256740793, 0.5195394252213442, 0.4650622459222996, 0.456799376259166, 0.7527115469582842, 0.5103601409290706, 0.9449676184041752, 0.6832956970856597, 0.6331633396603692, 0.41555140660062984, 0.5774540904992482, 0.5683753097978397, 0.4583831405510499, 0.5661018911146355, 0.5293307831139461]\n",
            "closeness:  [0.37951019360901495, nan, 0.3840408576151931, 0.3917740000980615, 0.39302331055323647, 0.3942921164103592, 0.3972372846163227, 0.4002610688228872, 0.40297668110058876, 0.4056760874629932, 0.4087511422962513, 0.41092584968232365, 0.41351555237152343, 0.4166422058542292, 0.41882983072822794, 0.42169021985432936, 0.4241843766496727, 0.4267126103807118, 0.4284433170745888, 0.43017734036031635, 0.43368649320306235, 0.43608976653673676, 0.437349912524162, 0.43981317159693856, 0.4405804333132022, 0.44420667335765923, 0.4464498764783235, 0.4481023820837761, 0.4491196547812297, 0.451931401312637, 0.4549309454926874, 0.4542974079126876, 0.4572215517742089]\n",
            "pagerank:  [0.0005514886815368479, nan, 0.0006106737637550883, 0.000632010650709007, 0.0006611077687840794, 0.0006918517755224782, 0.0007199973440680836, 0.0007480021454133273, 0.0007756736926308138, 0.000805531988000789, 0.0008333232625123608, 0.0008616584369319547, 0.0008898523771231471, 0.0009179062043178962, 0.000946280519999373, 0.0009740576479109715, 0.0010020302433655895, 0.0010304874131515647, 0.0010583196337193177, 0.0010877317642212767, 0.0011141014931337855, 0.0011426028655123679, 0.0011729421678756157, 0.001200253333186653, 0.0012292314277124554, 0.0012567039626591857, 0.0012840051686968006, 0.0013113158004774256, 0.00134227957734527, 0.0013714043904981107, 0.0013962169250363045, 0.0014309993344170666, 0.001455763399620293]\n",
            "degree centrality:  [0.014014014014014014, nan, 0.016016016016016016, 0.01701701701701702, 0.018018018018018018, 0.01901901901901902, 0.02002002002002002, 0.021021021021021023, 0.022022022022022022, 0.023023023023023025, 0.024024024024024024, 0.025025025025025027, 0.026026026026026026, 0.02702702702702703, 0.028028028028028028, 0.02902902902902903, 0.03003003003003003, 0.031031031031031032, 0.03203203203203203, 0.03303303303303303, 0.03403403403403404, 0.035035035035035036, 0.036036036036036036, 0.037037037037037035, 0.03803803803803804, 0.03903903903903904, 0.04004004004004004, 0.04104104104104104, 0.042042042042042045, 0.043043043043043044, 0.044044044044044044, 0.04504504504504504, 0.04604604604604605]\n"
          ]
        },
        {
          "output_type": "display_data",
          "data": {
            "image/png": "[encoded data removed]",
            "text/plain": [
              "<Figure size 432x288 with 1 Axes>"
            ]
          },
          "metadata": {
            "needs_background": "light"
          }
        }
      ]
    },
    {
      "cell_type": "markdown",
      "metadata": {
        "id": "aH3txkC-4Wam"
      },
      "source": [
        "Approach 2"
      ]
    },
    {
      "cell_type": "code",
      "metadata": {
        "id": "ykVh693_V_5K"
      },
      "source": [
        "## compute normalized weights \n",
        "## weight is the traffic for airport\n",
        "mw = np.max(g1.es['weight'])\n",
        "g1.es()['normalized_weight'] = [w/mw for w in g1.es()['weight']]"
      ],
      "execution_count": null,
      "outputs": []
    },
    {
      "cell_type": "code",
      "metadata": {
        "id": "3iaAqwFlZsz-"
      },
      "source": [
        "## compute several centrality measures\n",
        "df = pd.DataFrame({'name':g1.vs()['name'],\\\n",
        "                  'degree':degree_centrality(g1,weights='normalized_weight'),\\\n",
        "                  'pagerank':g1.pagerank(weights='weight'),\\\n",
        "                  'authority':g1.authority_score(weights='weight'),\\\n",
        "                  'hub':g1.hub_score(weights='weight'),\\\n",
        "                  'between':g1.betweenness(),\\\n",
        "                  'closeness':g1.closeness()})\n",
        "\n",
        "## normalize betweenness\n",
        "n = g1.vcount()\n",
        "df['normalized_between'] = [2*x/((n-1)*(n-2)) for x in df['between']]\n",
        "\n",
        "## sort w.r.t. degree centrality\n",
        "df = df.sort_values(by='degree', ascending=False)\n",
        "deg = g1.degree()\n",
        "df1 = pd.DataFrame(deg)\n",
        "df1['deg'] = df1[0]\n",
        "df1['name'] = g1.vs()['name']\n",
        "del df1[0]\n",
        "\n",
        "df2 = df1.merge(df)\n",
        "df2 = df2.groupby('deg').agg({\"degree\":'mean',\"pagerank\":'mean','authority': 'mean','hub': 'mean', 'between': 'mean', 'closeness': 'mean' }).reset_index()"
      ],
      "execution_count": null,
      "outputs": []
    },
    {
      "cell_type": "code",
      "metadata": {
        "colab": {
          "base_uri": "https://localhost:8080/",
          "height": 312
        },
        "id": "oLZndbDvbZ4r",
        "outputId": "bfb055a0-f5f8-4707-83b6-c73adac92681"
      },
      "source": [
        "plt.scatter(np.log(df2['deg']),np.log(df2['closeness']))\n",
        "plt.xlabel(\"degree of node\")\n",
        "plt.ylabel(\"closeness centrality\")\n",
        "plt.title(\"Correlation between degree and closeness\")"
      ],
      "execution_count": null,
      "outputs": [
        {
          "output_type": "execute_result",
          "data": {
            "text/plain": [
              "Text(0.5, 1.0, 'Correlation between degree and closeness')"
            ]
          },
          "metadata": {},
          "execution_count": 47
        },
        {
          "output_type": "display_data",
          "data": {
            "image/png": "[encoded data removed]",
            "text/plain": [
              "<Figure size 432x288 with 1 Axes>"
            ]
          },
          "metadata": {
            "needs_background": "light"
          }
        }
      ]
    },
    {
      "cell_type": "code",
      "metadata": {
        "colab": {
          "base_uri": "https://localhost:8080/",
          "height": 312
        },
        "id": "7yupEftIbuS4",
        "outputId": "aebf169c-e184-4917-db86-b1ba823bc1b7"
      },
      "source": [
        "plt.scatter(df2['deg'],np.log(df2['pagerank']))\n",
        "plt.xlabel(\"degree of node\")\n",
        "plt.ylabel(\"pagerank centrality\")\n",
        "plt.title(\"Correlation between degree and pagerank\")"
      ],
      "execution_count": null,
      "outputs": [
        {
          "output_type": "execute_result",
          "data": {
            "text/plain": [
              "Text(0.5, 1.0, 'Correlation between degree and pagerank')"
            ]
          },
          "metadata": {},
          "execution_count": 48
        },
        {
          "output_type": "display_data",
          "data": {
            "image/png": "[encoded data removed]",
            "text/plain": [
              "<Figure size 432x288 with 1 Axes>"
            ]
          },
          "metadata": {
            "needs_background": "light"
          }
        }
      ]
    },
    {
      "cell_type": "code",
      "metadata": {
        "colab": {
          "base_uri": "https://localhost:8080/",
          "height": 366
        },
        "id": "sya2yffKcWoK",
        "outputId": "f3c403f3-b80e-4fff-ca75-e88787526a23"
      },
      "source": [
        "plt.scatter(np.log(df2['deg']),np.log(df2['between']))\n",
        "plt.xlabel(\"degree of node\")\n",
        "plt.ylabel(\"betweenness centrality\")\n",
        "plt.title(\"Correlation between degree and betweenness\")"
      ],
      "execution_count": null,
      "outputs": [
        {
          "output_type": "stream",
          "name": "stderr",
          "text": [
            "/usr/local/lib/python3.7/dist-packages/pandas/core/series.py:726: RuntimeWarning: divide by zero encountered in log\n",
            "  result = getattr(ufunc, method)(*inputs, **kwargs)\n"
          ]
        },
        {
          "output_type": "execute_result",
          "data": {
            "text/plain": [
              "Text(0.5, 1.0, 'Correlation between degree and betweenness')"
            ]
          },
          "metadata": {},
          "execution_count": 49
        },
        {
          "output_type": "display_data",
          "data": {
            "image/png": "[encoded data removed]",
            "text/plain": [
              "<Figure size 432x288 with 1 Axes>"
            ]
          },
          "metadata": {
            "needs_background": "light"
          }
        }
      ]
    },
    {
      "cell_type": "code",
      "metadata": {
        "colab": {
          "base_uri": "https://localhost:8080/",
          "height": 366
        },
        "id": "MdGmIpiYdfSI",
        "outputId": "82544cf9-9656-4042-924a-d19a6488f55c"
      },
      "source": [
        "plt.scatter(np.log(df2['deg']),np.log(df2['hub']))\n",
        "plt.xlabel(\"degree of node\")\n",
        "plt.ylabel(\"hub centrality\")\n",
        "plt.title(\"Correlation between degree and Hub\")"
      ],
      "execution_count": null,
      "outputs": [
        {
          "output_type": "stream",
          "name": "stderr",
          "text": [
            "/usr/local/lib/python3.7/dist-packages/pandas/core/series.py:726: RuntimeWarning: divide by zero encountered in log\n",
            "  result = getattr(ufunc, method)(*inputs, **kwargs)\n"
          ]
        },
        {
          "output_type": "execute_result",
          "data": {
            "text/plain": [
              "Text(0.5, 1.0, 'Correlation between degree and Hub')"
            ]
          },
          "metadata": {},
          "execution_count": 50
        },
        {
          "output_type": "display_data",
          "data": {
            "image/png": "[encoded data removed]",
            "text/plain": [
              "<Figure size 432x288 with 1 Axes>"
            ]
          },
          "metadata": {
            "needs_background": "light"
          }
        }
      ]
    },
    {
      "cell_type": "code",
      "metadata": {
        "colab": {
          "base_uri": "https://localhost:8080/",
          "height": 312
        },
        "id": "b8bjISuids8z",
        "outputId": "24f574ae-41ba-4794-a567-f94a376f082a"
      },
      "source": [
        "plt.scatter(np.log(df2['deg']),np.log(df2['authority']))\n",
        "plt.xlabel(\"degree of node\")\n",
        "plt.ylabel(\"authority centrality\")\n",
        "plt.title(\"Correlation between degree and authority\")"
      ],
      "execution_count": null,
      "outputs": [
        {
          "output_type": "execute_result",
          "data": {
            "text/plain": [
              "Text(0.5, 1.0, 'Correlation between degree and authority')"
            ]
          },
          "metadata": {},
          "execution_count": 51
        },
        {
          "output_type": "display_data",
          "data": {
            "image/png": "[encoded data removed]",
            "text/plain": [
              "<Figure size 432x288 with 1 Axes>"
            ]
          },
          "metadata": {
            "needs_background": "light"
          }
        }
      ]
    },
    {
      "cell_type": "code",
      "metadata": {
        "colab": {
          "base_uri": "https://localhost:8080/",
          "height": 312
        },
        "id": "2Z9SZnQteUCX",
        "outputId": "fbafbd8f-acaa-4bc5-9e97-54cadfd623f0"
      },
      "source": [
        "plt.scatter(np.log(df2['deg']),np.log(df2['degree']))\n",
        "plt.xlabel(\"degree of node\")\n",
        "plt.ylabel(\"degree centrality\")\n",
        "plt.title(\"Correlation between degree and degree centrality\")"
      ],
      "execution_count": null,
      "outputs": [
        {
          "output_type": "execute_result",
          "data": {
            "text/plain": [
              "Text(0.5, 1.0, 'Correlation between degree and degree centrality')"
            ]
          },
          "metadata": {},
          "execution_count": 52
        },
        {
          "output_type": "display_data",
          "data": {
            "image/png": "[encoded data removed]",
            "text/plain": [
              "<Figure size 432x288 with 1 Axes>"
            ]
          },
          "metadata": {
            "needs_background": "light"
          }
        }
      ]
    },
    {
      "cell_type": "markdown",
      "metadata": {
        "id": "Bj0ikYFyuHzo"
      },
      "source": [
        "# Problem 3"
      ]
    },
    {
      "cell_type": "markdown",
      "metadata": {
        "id": "-9mucYTsP_EB"
      },
      "source": [
        "Code to read dataset and generate graph (based on the lecture notebook provided):"
      ]
    },
    {
      "cell_type": "code",
      "metadata": {
        "id": "wAg27jibwH81"
      },
      "source": [
        "## define colors and node sizes here\n",
        "cls_edges = 'gainsboro'\n",
        "cls = ['silver','dimgray','black']\n",
        "sz = [6,9,12]"
      ],
      "execution_count": null,
      "outputs": []
    },
    {
      "cell_type": "code",
      "metadata": {
        "id": "Shc_9S5MuZC1"
      },
      "source": [
        "## read edges and build weighted directed graph\n",
        "D = pd.read_csv(datadir+'Airports/connections.csv')\n",
        "g = ig.Graph.TupleList([tuple(x) for x in D.values], directed=True, edge_attrs=['weight'])\n",
        "df = D.head()"
      ],
      "execution_count": null,
      "outputs": []
    },
    {
      "cell_type": "code",
      "metadata": {
        "colab": {
          "base_uri": "https://localhost:8080/"
        },
        "id": "rHOgFZ1LubhZ",
        "outputId": "e5053c9b-2554-4842-fea0-a6dad61eee97"
      },
      "source": [
        "## read vertex attributes and add to graph\n",
        "A = pd.read_csv(datadir+'Airports/airports_loc.csv')\n",
        "lookup = {k:v for v,k in enumerate(A['airport'])}\n",
        "l = [lookup[x] for x in g.vs()['name']]\n",
        "g.vs()['layout'] = [(A['lon'][i],A['lat'][i]) for i in l]\n",
        "g.vs()['state'] = [A['state'][i] for i in l]\n",
        "g.vs()['city'] = [A['city'][i] for i in l]\n",
        "## add a few more attributes for visualization\n",
        "g.vs()['size'] = sz[1]\n",
        "g.vs()['color'] = cls[1]\n",
        "g.es()['color'] = cls_edges\n",
        "g.es()['arrow_size'] = 0.33\n",
        "df = A.head()\n",
        "print(g.vcount(),'nodes and',g.ecount(),'directed edges')"
      ],
      "execution_count": null,
      "outputs": [
        {
          "output_type": "stream",
          "name": "stdout",
          "text": [
            "464 nodes and 12000 directed edges\n"
          ]
        }
      ]
    },
    {
      "cell_type": "markdown",
      "metadata": {
        "id": "HBjrGSEoQhFJ"
      },
      "source": [
        "Code to remove the two nodes that make the graph not weakly connected: "
      ]
    },
    {
      "cell_type": "code",
      "metadata": {
        "id": "EdWtwqpiukvu",
        "colab": {
          "base_uri": "https://localhost:8080/"
        },
        "outputId": "b8745e4b-7029-4808-824a-9241dc59e554"
      },
      "source": [
        "## graph is weakly connected except for 2 airports\n",
        "cl = g.clusters(mode='WEAK').membership\n",
        "nodes = []\n",
        "for i in range(g.vcount()):\n",
        "    if cl[i]>0:\n",
        "        ##print(i, g.vs[i])\n",
        "        nodes.append(g.vs[i].index)\n",
        "## Removing the two nodes to make graph weakly connected\n",
        "g.delete_vertices(nodes)\n",
        "print(g.vcount(),'nodes and',g.ecount(),'directed edges')"
      ],
      "execution_count": null,
      "outputs": [
        {
          "output_type": "stream",
          "name": "stdout",
          "text": [
            "462 nodes and 11999 directed edges\n"
          ]
        }
      ]
    },
    {
      "cell_type": "markdown",
      "metadata": {
        "id": "jG5dk9TYQu5y"
      },
      "source": [
        "Below, we calculate the different centrality measures for each node:"
      ]
    },
    {
      "cell_type": "code",
      "metadata": {
        "colab": {
          "base_uri": "https://localhost:8080/",
          "height": 204
        },
        "id": "YwOb9je8vVDT",
        "outputId": "7d563644-7512-4282-bba5-7df956158be5"
      },
      "source": [
        "## compute normalized weights \n",
        "mw = np.max(g.es['weight'])\n",
        "g.es()['normalized_weight'] = [w/mw for w in g.es()['weight']]\n",
        "\n",
        "## compute several centrality measures\n",
        "matrix = centrality_measures_w(g)\n",
        "matrix.head(5)"
      ],
      "execution_count": null,
      "outputs": [
        {
          "output_type": "execute_result",
          "data": {
            "text/html": [
              "<div>\n",
              "<style scoped>\n",
              "    .dataframe tbody tr th:only-of-type {\n",
              "        vertical-align: middle;\n",
              "    }\n",
              "\n",
              "    .dataframe tbody tr th {\n",
              "        vertical-align: top;\n",
              "    }\n",
              "\n",
              "    .dataframe thead th {\n",
              "        text-align: right;\n",
              "    }\n",
              "</style>\n",
              "<table border=\"1\" class=\"dataframe\">\n",
              "  <thead>\n",
              "    <tr style=\"text-align: right;\">\n",
              "      <th></th>\n",
              "      <th>name</th>\n",
              "      <th>degree</th>\n",
              "      <th>pagerank</th>\n",
              "      <th>authority</th>\n",
              "      <th>hub</th>\n",
              "      <th>between</th>\n",
              "      <th>closeness</th>\n",
              "    </tr>\n",
              "  </thead>\n",
              "  <tbody>\n",
              "    <tr>\n",
              "      <th>0</th>\n",
              "      <td>SFO</td>\n",
              "      <td>0.019337</td>\n",
              "      <td>0.017986</td>\n",
              "      <td>0.572323</td>\n",
              "      <td>0.574479</td>\n",
              "      <td>0.035074</td>\n",
              "      <td>0.544917</td>\n",
              "    </tr>\n",
              "    <tr>\n",
              "      <th>1</th>\n",
              "      <td>LAX</td>\n",
              "      <td>0.029707</td>\n",
              "      <td>0.026628</td>\n",
              "      <td>0.765373</td>\n",
              "      <td>0.768892</td>\n",
              "      <td>0.051678</td>\n",
              "      <td>0.559466</td>\n",
              "    </tr>\n",
              "    <tr>\n",
              "      <th>2</th>\n",
              "      <td>MCO</td>\n",
              "      <td>0.021867</td>\n",
              "      <td>0.019390</td>\n",
              "      <td>0.564857</td>\n",
              "      <td>0.565243</td>\n",
              "      <td>0.028187</td>\n",
              "      <td>0.551435</td>\n",
              "    </tr>\n",
              "    <tr>\n",
              "      <th>3</th>\n",
              "      <td>ATL</td>\n",
              "      <td>0.053397</td>\n",
              "      <td>0.051320</td>\n",
              "      <td>1.000000</td>\n",
              "      <td>1.000000</td>\n",
              "      <td>0.088661</td>\n",
              "      <td>0.593308</td>\n",
              "    </tr>\n",
              "    <tr>\n",
              "      <th>4</th>\n",
              "      <td>JFK</td>\n",
              "      <td>0.016892</td>\n",
              "      <td>0.014496</td>\n",
              "      <td>0.445176</td>\n",
              "      <td>0.446092</td>\n",
              "      <td>0.011916</td>\n",
              "      <td>0.532333</td>\n",
              "    </tr>\n",
              "  </tbody>\n",
              "</table>\n",
              "</div>"
            ],
            "text/plain": [
              "  name    degree  pagerank  authority       hub   between  closeness\n",
              "0  SFO  0.019337  0.017986   0.572323  0.574479  0.035074   0.544917\n",
              "1  LAX  0.029707  0.026628   0.765373  0.768892  0.051678   0.559466\n",
              "2  MCO  0.021867  0.019390   0.564857  0.565243  0.028187   0.551435\n",
              "3  ATL  0.053397  0.051320   1.000000  1.000000  0.088661   0.593308\n",
              "4  JFK  0.016892  0.014496   0.445176  0.446092  0.011916   0.532333"
            ]
          },
          "metadata": {},
          "execution_count": 11
        }
      ]
    },
    {
      "cell_type": "markdown",
      "metadata": {
        "id": "DUehoQ1VQ5Z6"
      },
      "source": [
        "The function below help us eliminate nodes based on centrality measure, and ascending/descending criteria. We will use it to review the effectiveness of each centrality measure at making the graph no longer weakly connected:"
      ]
    },
    {
      "cell_type": "code",
      "metadata": {
        "id": "9H4dVjybr5_4"
      },
      "source": [
        "def weak_exp(g, matrix, measure, ascending):\n",
        "    print('Degree centrality measure: ', measure, \" | Ascending : \", ascending)\n",
        "    clusters = g.clusters(mode='WEAK')\n",
        "    df = matrix.sort_values(by = measure, ascending = ascending)\n",
        "    df = df.reset_index(drop=True)\n",
        "    nodes_temp = []\n",
        "    if (len(clusters) == 1):\n",
        "        i = 0\n",
        "        g_temp = g.copy()\n",
        "        while (len(clusters) == 1):\n",
        "            airport = df['name'][i]\n",
        "            node = [v for v in g_temp.vs() if v['name'] == airport]\n",
        "            g_temp.delete_vertices(node)\n",
        "            nodes_temp.append([airport, df[measure][i]])\n",
        "            clusters = g_temp.clusters(mode='WEAK')\n",
        "            i += 1\n",
        "        print('Number of nodes removed before graph is no longer weakly connected: ', len(nodes_temp))\n",
        "        ##print(nodes_temp)\n",
        "    else:\n",
        "        print('Graph not weakly connected')\n",
        "    return nodes_temp"
      ],
      "execution_count": null,
      "outputs": []
    },
    {
      "cell_type": "markdown",
      "metadata": {
        "id": "ooPs26ZiRSm8"
      },
      "source": [
        "Now, we use the function from the above statement, to calculate the how many number of nodes with the largest/smallest score it takes to make the graph no longer weakly connected: "
      ]
    },
    {
      "cell_type": "code",
      "metadata": {
        "colab": {
          "base_uri": "https://localhost:8080/"
        },
        "id": "BPeAdfnV3pvW",
        "outputId": "61798625-8cb1-4b0b-bc8d-723a7a3ad2db"
      },
      "source": [
        "## Comparison matrix\n",
        "comp = [];\n",
        "## Degree centrality\n",
        "deg_des = weak_exp(g, matrix, 'degree', False)\n",
        "deg_asc= weak_exp(g, matrix, 'degree', True)\n",
        "comp.append(['Degree Centrality', len(deg_des), len(deg_asc), len(deg_des)/len(deg_asc)])\n",
        "print('########################################################################')\n",
        "## PageRank centrality\n",
        "pr_des = weak_exp(g, matrix, 'pagerank', False)\n",
        "pr_asc = weak_exp(g, matrix, 'pagerank', True)\n",
        "comp.append(['PageRank Centrality', len(pr_des), len(pr_asc), len(pr_des)/len(pr_asc)])\n",
        "print('########################################################################')\n",
        "## Authority centrality\n",
        "aut_des = weak_exp(g, matrix, 'authority', False)\n",
        "aut_asc = weak_exp(g, matrix, 'authority', True)\n",
        "comp.append(['Authority Centrality', len(aut_des), len(aut_asc), len(aut_des)/len(aut_asc)])\n",
        "print('########################################################################')\n",
        "## Hub Centrality\n",
        "hub_des = weak_exp(g, matrix, 'hub', False)\n",
        "hub_asc = weak_exp(g, matrix, 'hub', True)\n",
        "comp.append(['Hub Centrality', len(hub_des), len(hub_asc), len(hub_des)/len(hub_asc)])\n",
        "print('########################################################################')\n",
        "## Betweenness centrality\n",
        "bet_des = weak_exp(g, matrix, 'between', False)\n",
        "bet_asc = weak_exp(g, matrix, 'between', True)\n",
        "comp.append(['Betweenness Centrality', len(bet_des), len(bet_asc), len(bet_des)/len(bet_asc)])\n",
        "print('########################################################################')\n",
        "## Closeness centrality\n",
        "clo_des = weak_exp(g, matrix, 'closeness', False)\n",
        "clo_asc = weak_exp(g, matrix, 'closeness', True)\n",
        "comp.append(['Closeness Centrality', len(clo_des), len(clo_asc), len(clo_des)/len(clo_asc)])\n",
        "print('########################################################################')"
      ],
      "execution_count": null,
      "outputs": [
        {
          "output_type": "stream",
          "name": "stdout",
          "text": [
            "Degree centrality measure:  degree  | Ascending :  False\n",
            "Number of nodes removed before graph is no longer weakly connected:  2\n",
            "Degree centrality measure:  degree  | Ascending :  True\n",
            "Number of nodes removed before graph is no longer weakly connected:  179\n",
            "########################################################################\n",
            "Degree centrality measure:  pagerank  | Ascending :  False\n",
            "Number of nodes removed before graph is no longer weakly connected:  2\n",
            "Degree centrality measure:  pagerank  | Ascending :  True\n",
            "Number of nodes removed before graph is no longer weakly connected:  36\n",
            "########################################################################\n",
            "Degree centrality measure:  authority  | Ascending :  False\n",
            "Number of nodes removed before graph is no longer weakly connected:  2\n",
            "Degree centrality measure:  authority  | Ascending :  True\n",
            "Number of nodes removed before graph is no longer weakly connected:  6\n",
            "########################################################################\n",
            "Degree centrality measure:  hub  | Ascending :  False\n",
            "Number of nodes removed before graph is no longer weakly connected:  2\n",
            "Degree centrality measure:  hub  | Ascending :  True\n",
            "Number of nodes removed before graph is no longer weakly connected:  462\n",
            "########################################################################\n",
            "Degree centrality measure:  between  | Ascending :  False\n",
            "Number of nodes removed before graph is no longer weakly connected:  4\n",
            "Degree centrality measure:  between  | Ascending :  True\n",
            "Number of nodes removed before graph is no longer weakly connected:  462\n",
            "########################################################################\n",
            "Degree centrality measure:  closeness  | Ascending :  False\n",
            "Number of nodes removed before graph is no longer weakly connected:  1\n",
            "Degree centrality measure:  closeness  | Ascending :  True\n",
            "Number of nodes removed before graph is no longer weakly connected:  462\n",
            "########################################################################\n"
          ]
        }
      ]
    },
    {
      "cell_type": "code",
      "metadata": {
        "colab": {
          "base_uri": "https://localhost:8080/"
        },
        "id": "kqLishpMMx86",
        "outputId": "7a7a1c0b-59f9-4d9e-a4c0-d0079795420d"
      },
      "source": [
        "comp"
      ],
      "execution_count": null,
      "outputs": [
        {
          "output_type": "execute_result",
          "data": {
            "text/plain": [
              "[['Degree Centrality', 2, 179, 0.0111731843575419],\n",
              " ['PageRank Centrality', 2, 36, 0.05555555555555555],\n",
              " ['Authority Centrality', 2, 6, 0.3333333333333333],\n",
              " ['Hub Centrality', 2, 462, 0.004329004329004329],\n",
              " ['Betweenness Centrality', 4, 462, 0.008658008658008658],\n",
              " ['Closeness Centrality', 1, 462, 0.0021645021645021645]]"
            ]
          },
          "metadata": {},
          "execution_count": 40
        }
      ]
    },
    {
      "cell_type": "markdown",
      "metadata": {
        "id": "2wAIdteoRs65"
      },
      "source": [
        "Based on this previous comparison results, the closeness centrality measure seems to be the most effective at identifying which nodes are both more and less important (to make the graph weakly connected)"
      ]
    },
    {
      "cell_type": "markdown",
      "metadata": {
        "id": "wvTrGlUqndQZ"
      },
      "source": [
        "#Problem 5. "
      ]
    },
    {
      "cell_type": "code",
      "metadata": {
        "id": "vbdIY3LDJcco"
      },
      "source": [
        "g1 = g.copy()\n",
        "state_map = {v:k for k,v in enumerate(set(g1.vs['state']))}\n",
        "vertex_map = [state_map[i] for i in g1.vs['state']]\n",
        "G = g1\n",
        "# len(vertex_map)\n",
        "G.contract_vertices(vertex_map)\n",
        "# type(G)\n",
        "G.vs['name'] = list(state_map.keys())\n",
        "# G.contract_vertices(vertex_map)\n",
        "# G.vs['name'] = list(state_map.keys())\n",
        "# G = G.simplify(multiple=True,loops=True,combine_edges={'weight':'sum','color':'first','arrow_size':'first’})\n",
        "G = G.simplify(multiple=True,\n",
        "               loops=True,\n",
        "               combine_edges={'weight':'sum','color':'first','arrow_size':'first'})"
      ],
      "execution_count": null,
      "outputs": []
    },
    {
      "cell_type": "markdown",
      "metadata": {
        "id": "37mERTwL4k05"
      },
      "source": [
        "5.1"
      ]
    },
    {
      "cell_type": "code",
      "metadata": {
        "id": "PXkMynYkWENW"
      },
      "source": [
        "cl = G.clusters(mode='WEAK').membership\n",
        "nodes = [G.vs[i].index for i in range(G.vcount()) if cl[i]>0]"
      ],
      "execution_count": null,
      "outputs": []
    },
    {
      "cell_type": "code",
      "metadata": {
        "colab": {
          "base_uri": "https://localhost:8080/"
        },
        "id": "Oubv2b0GWpkl",
        "outputId": "9b77c518-6264-4de2-e84d-01017e896afc"
      },
      "source": [
        "G.delete_vertices(nodes)\n",
        "print(G.vcount(),'nodes and',G.ecount(),'directed edges')"
      ],
      "execution_count": null,
      "outputs": [
        {
          "output_type": "execute_result",
          "data": {
            "text/plain": [
              "[]"
            ]
          },
          "metadata": {},
          "execution_count": 52
        }
      ]
    },
    {
      "cell_type": "markdown",
      "metadata": {
        "id": "TAvh0do18Jih"
      },
      "source": [
        "Graph is strongly connected."
      ]
    },
    {
      "cell_type": "markdown",
      "metadata": {
        "id": "GlpkxroT53Yj"
      },
      "source": [
        "5.2"
      ]
    },
    {
      "cell_type": "code",
      "metadata": {
        "id": "RzfA9xImIJPg"
      },
      "source": [
        "depart_dict = {}\n",
        "\n",
        "for j in range(G.vcount()):\n",
        "    l=[G.get_eid(j, i, directed=True, error=False) for i in range(G.vcount())]\n",
        "    l=[i for i in l if i != -1]\n",
        "    depart_dict.update({G.vs(j)['name'][0]: sum([G.es(i)['weight'][0] for i in l])})"
      ],
      "execution_count": null,
      "outputs": []
    },
    {
      "cell_type": "code",
      "metadata": {
        "colab": {
          "base_uri": "https://localhost:8080/"
        },
        "id": "pqBCvW65FP0h",
        "outputId": "0d46ab5c-0aba-4147-fbf5-17eef898da34"
      },
      "source": [
        "Keymax = max(depart_dict, key= lambda x: depart_dict[x])\n",
        "print(Keymax)"
      ],
      "execution_count": null,
      "outputs": [
        {
          "output_type": "stream",
          "name": "stdout",
          "text": [
            "CA\n"
          ]
        }
      ]
    },
    {
      "cell_type": "code",
      "metadata": {
        "colab": {
          "base_uri": "https://localhost:8080/"
        },
        "id": "0ltwBOMTKYsU",
        "outputId": "c02ac6e4-d7fa-4719-cebd-6f52d6592a7a"
      },
      "source": [
        "depart_dict.get(Keymax)"
      ],
      "execution_count": null,
      "outputs": [
        {
          "output_type": "execute_result",
          "data": {
            "text/plain": [
              "44547963.0"
            ]
          },
          "metadata": {},
          "execution_count": 73
        }
      ]
    },
    {
      "cell_type": "code",
      "metadata": {
        "id": "eTbD6M6eKyFz"
      },
      "source": [
        "in_dict = {}\n",
        "\n",
        "for j in range(G.vcount()):\n",
        "    l=[G.get_eid(i, j, directed=True, error=False) for i in range(G.vcount())]\n",
        "    l=[i for i in l if i != -1]\n",
        "    in_dict.update({G.vs(j)['name'][0]: sum([G.es(i)['weight'][0] for i in l])})"
      ],
      "execution_count": null,
      "outputs": []
    },
    {
      "cell_type": "code",
      "metadata": {
        "colab": {
          "base_uri": "https://localhost:8080/"
        },
        "id": "yXL23AMjLRAX",
        "outputId": "918e3900-b287-4f4e-a39c-f59a7a28124b"
      },
      "source": [
        "Keymax = max(in_dict, key= lambda x: in_dict[x])\n",
        "print(Keymax)"
      ],
      "execution_count": null,
      "outputs": [
        {
          "output_type": "stream",
          "name": "stdout",
          "text": [
            "CA\n"
          ]
        }
      ]
    },
    {
      "cell_type": "code",
      "metadata": {
        "colab": {
          "base_uri": "https://localhost:8080/"
        },
        "id": "2HUzy0F2LT8A",
        "outputId": "a17593f0-2fbc-4fa1-e8f4-7ceb997e3e30"
      },
      "source": [
        "in_dict.get(Keymax)"
      ],
      "execution_count": null,
      "outputs": [
        {
          "output_type": "execute_result",
          "data": {
            "text/plain": [
              "44448180.0"
            ]
          },
          "metadata": {},
          "execution_count": 78
        }
      ]
    },
    {
      "cell_type": "markdown",
      "metadata": {
        "id": "4ql9maRx6BzY"
      },
      "source": [
        "CA has most passengers in and out."
      ]
    },
    {
      "cell_type": "markdown",
      "metadata": {
        "id": "bXWWXa745ckl"
      },
      "source": [
        "5.3"
      ]
    },
    {
      "cell_type": "code",
      "metadata": {
        "id": "0lSxZp5twKtL"
      },
      "source": [
        "max_idx = G.es()['weight'].index(max(G.es()['weight']))\n",
        "\n",
        "for edge in G.es(max_idx):\n",
        "    source_vertex_id = edge.source\n",
        "    target_vertex_id = edge.target\n",
        "    source_vertex = G.vs[source_vertex_id]\n",
        "    target_vertex = G.vs[target_vertex_id]"
      ],
      "execution_count": null,
      "outputs": []
    },
    {
      "cell_type": "code",
      "metadata": {
        "colab": {
          "base_uri": "https://localhost:8080/"
        },
        "id": "U09N08LMxH1b",
        "outputId": "03e566a4-5fbc-401e-847e-2b32914be4a1"
      },
      "source": [
        "source_vertex"
      ],
      "execution_count": null,
      "outputs": [
        {
          "output_type": "execute_result",
          "data": {
            "text/plain": [
              "igraph.Vertex(<igraph.Graph object at 0x7f3f6d2b6c50>, 48, {'name': 'FL'})"
            ]
          },
          "metadata": {},
          "execution_count": 38
        }
      ]
    },
    {
      "cell_type": "code",
      "metadata": {
        "colab": {
          "base_uri": "https://localhost:8080/"
        },
        "id": "UtPGzVySyBRn",
        "outputId": "57609ba6-753e-46db-bd3b-f02453e48347"
      },
      "source": [
        "target_vertex"
      ],
      "execution_count": null,
      "outputs": [
        {
          "output_type": "execute_result",
          "data": {
            "text/plain": [
              "igraph.Vertex(<igraph.Graph object at 0x7f3f6d2b6c50>, 18, {'name': 'GA'})"
            ]
          },
          "metadata": {},
          "execution_count": 39
        }
      ]
    },
    {
      "cell_type": "markdown",
      "metadata": {
        "id": "oED2CfEy5mDM"
      },
      "source": [
        "The edge from FL to GA has the highest weight in terms of passengers."
      ]
    },
    {
      "cell_type": "markdown",
      "metadata": {
        "id": "Z0dAAclX4q_F"
      },
      "source": [
        "5.4"
      ]
    },
    {
      "cell_type": "code",
      "metadata": {
        "colab": {
          "base_uri": "https://localhost:8080/",
          "height": 204
        },
        "id": "COQQy9zKQHrH",
        "outputId": "55ecfee0-b932-4d11-b813-8d13e42cd826"
      },
      "source": [
        "C = pd.DataFrame({'state':G.vs()['name'],\\\n",
        "                  'degree':degree_centrality(G,weights='weight'),\\\n",
        "                  'pagerank':G.pagerank(weights='weight'),\\\n",
        "                  'authority':G.authority_score(weights='weight'),\\\n",
        "                  'hub':G.hub_score(weights='weight'),\\\n",
        "                  'between':G.betweenness(),\\\n",
        "                  'closeness':G.closeness()})\n",
        "## normalize betweenness\n",
        "n = G.vcount()\n",
        "C['between'] = [2*x/((n-1)*(n-2)) for x in C['between']]\n",
        "## sort w.r.t. degree centrality\n",
        "Cs = C.sort_values(by='degree', ascending=False)\n",
        "df = Cs.head()\n",
        "df"
      ],
      "execution_count": null,
      "outputs": [
        {
          "output_type": "execute_result",
          "data": {
            "text/html": [
              "<div>\n",
              "<style scoped>\n",
              "    .dataframe tbody tr th:only-of-type {\n",
              "        vertical-align: middle;\n",
              "    }\n",
              "\n",
              "    .dataframe tbody tr th {\n",
              "        vertical-align: top;\n",
              "    }\n",
              "\n",
              "    .dataframe thead th {\n",
              "        text-align: right;\n",
              "    }\n",
              "</style>\n",
              "<table border=\"1\" class=\"dataframe\">\n",
              "  <thead>\n",
              "    <tr style=\"text-align: right;\">\n",
              "      <th></th>\n",
              "      <th>state</th>\n",
              "      <th>degree</th>\n",
              "      <th>pagerank</th>\n",
              "      <th>authority</th>\n",
              "      <th>hub</th>\n",
              "      <th>between</th>\n",
              "      <th>closeness</th>\n",
              "    </tr>\n",
              "  </thead>\n",
              "  <tbody>\n",
              "    <tr>\n",
              "      <th>11</th>\n",
              "      <td>CA</td>\n",
              "      <td>889961.43</td>\n",
              "      <td>0.075945</td>\n",
              "      <td>0.969771</td>\n",
              "      <td>0.971337</td>\n",
              "      <td>0.021798</td>\n",
              "      <td>0.943396</td>\n",
              "    </tr>\n",
              "    <tr>\n",
              "      <th>18</th>\n",
              "      <td>FL</td>\n",
              "      <td>864286.13</td>\n",
              "      <td>0.073844</td>\n",
              "      <td>1.000000</td>\n",
              "      <td>1.000000</td>\n",
              "      <td>0.025327</td>\n",
              "      <td>0.943396</td>\n",
              "    </tr>\n",
              "    <tr>\n",
              "      <th>21</th>\n",
              "      <td>TX</td>\n",
              "      <td>856409.13</td>\n",
              "      <td>0.077688</td>\n",
              "      <td>0.925013</td>\n",
              "      <td>0.925349</td>\n",
              "      <td>0.028044</td>\n",
              "      <td>0.980392</td>\n",
              "    </tr>\n",
              "    <tr>\n",
              "      <th>9</th>\n",
              "      <td>GA</td>\n",
              "      <td>708998.05</td>\n",
              "      <td>0.064350</td>\n",
              "      <td>0.829178</td>\n",
              "      <td>0.827263</td>\n",
              "      <td>0.024180</td>\n",
              "      <td>0.961538</td>\n",
              "    </tr>\n",
              "    <tr>\n",
              "      <th>48</th>\n",
              "      <td>IL</td>\n",
              "      <td>686042.57</td>\n",
              "      <td>0.063423</td>\n",
              "      <td>0.743696</td>\n",
              "      <td>0.742924</td>\n",
              "      <td>0.037366</td>\n",
              "      <td>1.000000</td>\n",
              "    </tr>\n",
              "  </tbody>\n",
              "</table>\n",
              "</div>"
            ],
            "text/plain": [
              "   state     degree  pagerank  authority       hub   between  closeness\n",
              "11    CA  889961.43  0.075945   0.969771  0.971337  0.021798   0.943396\n",
              "18    FL  864286.13  0.073844   1.000000  1.000000  0.025327   0.943396\n",
              "21    TX  856409.13  0.077688   0.925013  0.925349  0.028044   0.980392\n",
              "9     GA  708998.05  0.064350   0.829178  0.827263  0.024180   0.961538\n",
              "48    IL  686042.57  0.063423   0.743696  0.742924  0.037366   1.000000"
            ]
          },
          "metadata": {},
          "execution_count": 31
        }
      ]
    },
    {
      "cell_type": "markdown",
      "metadata": {
        "id": "3WOlXEbe4wRg"
      },
      "source": [
        "CA has the highest degree."
      ]
    },
    {
      "cell_type": "code",
      "metadata": {
        "colab": {
          "base_uri": "https://localhost:8080/",
          "height": 204
        },
        "id": "4t44UY3rSLCt",
        "outputId": "9b6c7d0d-429b-473b-9d47-d77f27da2cc3"
      },
      "source": [
        "Cs = C.sort_values(by='between', ascending=False)\n",
        "df = Cs.head()\n",
        "df"
      ],
      "execution_count": null,
      "outputs": [
        {
          "output_type": "execute_result",
          "data": {
            "text/html": [
              "<div>\n",
              "<style scoped>\n",
              "    .dataframe tbody tr th:only-of-type {\n",
              "        vertical-align: middle;\n",
              "    }\n",
              "\n",
              "    .dataframe tbody tr th {\n",
              "        vertical-align: top;\n",
              "    }\n",
              "\n",
              "    .dataframe thead th {\n",
              "        text-align: right;\n",
              "    }\n",
              "</style>\n",
              "<table border=\"1\" class=\"dataframe\">\n",
              "  <thead>\n",
              "    <tr style=\"text-align: right;\">\n",
              "      <th></th>\n",
              "      <th>state</th>\n",
              "      <th>degree</th>\n",
              "      <th>pagerank</th>\n",
              "      <th>authority</th>\n",
              "      <th>hub</th>\n",
              "      <th>between</th>\n",
              "      <th>closeness</th>\n",
              "    </tr>\n",
              "  </thead>\n",
              "  <tbody>\n",
              "    <tr>\n",
              "      <th>48</th>\n",
              "      <td>IL</td>\n",
              "      <td>686042.57</td>\n",
              "      <td>0.063423</td>\n",
              "      <td>0.743696</td>\n",
              "      <td>0.742924</td>\n",
              "      <td>0.037366</td>\n",
              "      <td>1.000000</td>\n",
              "    </tr>\n",
              "    <tr>\n",
              "      <th>19</th>\n",
              "      <td>OH</td>\n",
              "      <td>313648.60</td>\n",
              "      <td>0.030171</td>\n",
              "      <td>0.362870</td>\n",
              "      <td>0.363212</td>\n",
              "      <td>0.030574</td>\n",
              "      <td>0.980392</td>\n",
              "    </tr>\n",
              "    <tr>\n",
              "      <th>21</th>\n",
              "      <td>TX</td>\n",
              "      <td>856409.13</td>\n",
              "      <td>0.077688</td>\n",
              "      <td>0.925013</td>\n",
              "      <td>0.925349</td>\n",
              "      <td>0.028044</td>\n",
              "      <td>0.980392</td>\n",
              "    </tr>\n",
              "    <tr>\n",
              "      <th>15</th>\n",
              "      <td>MN</td>\n",
              "      <td>279901.14</td>\n",
              "      <td>0.031069</td>\n",
              "      <td>0.284188</td>\n",
              "      <td>0.284230</td>\n",
              "      <td>0.026444</td>\n",
              "      <td>0.961538</td>\n",
              "    </tr>\n",
              "    <tr>\n",
              "      <th>38</th>\n",
              "      <td>DC</td>\n",
              "      <td>320388.79</td>\n",
              "      <td>0.030078</td>\n",
              "      <td>0.418859</td>\n",
              "      <td>0.418278</td>\n",
              "      <td>0.026146</td>\n",
              "      <td>0.980392</td>\n",
              "    </tr>\n",
              "  </tbody>\n",
              "</table>\n",
              "</div>"
            ],
            "text/plain": [
              "   state     degree  pagerank  authority       hub   between  closeness\n",
              "48    IL  686042.57  0.063423   0.743696  0.742924  0.037366   1.000000\n",
              "19    OH  313648.60  0.030171   0.362870  0.363212  0.030574   0.980392\n",
              "21    TX  856409.13  0.077688   0.925013  0.925349  0.028044   0.980392\n",
              "15    MN  279901.14  0.031069   0.284188  0.284230  0.026444   0.961538\n",
              "38    DC  320388.79  0.030078   0.418859  0.418278  0.026146   0.980392"
            ]
          },
          "metadata": {},
          "execution_count": 33
        }
      ]
    },
    {
      "cell_type": "markdown",
      "metadata": {
        "id": "-4MoHldd40ZT"
      },
      "source": [
        "IL has the highest betweenness."
      ]
    }
  ]
}