{
  "nbformat": 4,
  "nbformat_minor": 0,
  "metadata": {
    "colab": {
      "name": "Gomez_Li_Assignment1.ipynb",
      "provenance": [],
      "collapsed_sections": [],
      "include_colab_link": true
    },
    "kernelspec": {
      "display_name": "Python 3",
      "name": "python3"
    },
    "language_info": {
      "name": "python"
    }
  },
  "cells": [
    {
      "cell_type": "markdown",
      "metadata": {
        "id": "view-in-github",
        "colab_type": "text"
      },
      "source": [
        "<a href=\"https://colab.research.google.com/github/yishengli/GraphMiningNotebooks/blob/master/Gomez_Li_Assignment1.ipynb\" target=\"_parent\"><img src=\"https://colab.research.google.com/assets/colab-badge.svg\" alt=\"Open In Colab\"/></a>"
      ]
    },
    {
      "cell_type": "code",
      "metadata": {
        "colab": {
          "base_uri": "https://localhost:8080/"
        },
        "id": "qKs4RhbRgW-b",
        "outputId": "ba95d7c1-32cb-4b8d-8345-0a7a7489af44"
      },
      "source": [
        "pip install python-igraph"
      ],
      "execution_count": null,
      "outputs": [
        {
          "output_type": "stream",
          "name": "stdout",
          "text": [
            "Collecting python-igraph\n",
            "  Downloading python_igraph-0.9.6-cp37-cp37m-manylinux2010_x86_64.whl (3.2 MB)\n",
            "\u001b[K     |████████████████████████████████| 3.2 MB 5.4 MB/s \n",
            "\u001b[?25hCollecting texttable>=1.6.2\n",
            "  Downloading texttable-1.6.4-py2.py3-none-any.whl (10 kB)\n",
            "Installing collected packages: texttable, python-igraph\n",
            "Successfully installed python-igraph-0.9.6 texttable-1.6.4\n"
          ]
        }
      ]
    },
    {
      "cell_type": "code",
      "metadata": {
        "colab": {
          "base_uri": "https://localhost:8080/"
        },
        "id": "YkvKZ0kusdo4",
        "outputId": "5811b8fe-e99c-4a89-ced5-1ed4a70a4475"
      },
      "source": [
        "pip install haversine"
      ],
      "execution_count": null,
      "outputs": [
        {
          "output_type": "stream",
          "name": "stdout",
          "text": [
            "Collecting haversine\n",
            "  Downloading haversine-2.5.1-py2.py3-none-any.whl (6.1 kB)\n",
            "Installing collected packages: haversine\n",
            "Successfully installed haversine-2.5.1\n"
          ]
        }
      ]
    },
    {
      "cell_type": "code",
      "metadata": {
        "colab": {
          "base_uri": "https://localhost:8080/"
        },
        "id": "LKqgbFn3JVS0",
        "outputId": "299564ea-4c3c-489b-b2d9-1a2670ea5cfa"
      },
      "source": [
        "import igraph as ig\n",
        "import numpy as np\n",
        "import pandas as pd\n",
        "import matplotlib.pyplot as plt\n",
        "from sklearn.linear_model import LinearRegression\n",
        "from collections import Counter\n",
        "from statsmodels.distributions.empirical_distribution import ECDF as ecdf\n",
        "from numpy import linalg as la\n",
        "from scipy.sparse import csr_matrix\n",
        "from numpy.linalg import matrix_power\n",
        "from itertools import combinations\n",
        "from haversine import haversine as hv\n",
        "from collections import Counter\n",
        "import random \n",
        "from scipy.optimize import curve_fit"
      ],
      "execution_count": null,
      "outputs": [
        {
          "output_type": "stream",
          "name": "stderr",
          "text": [
            "/usr/local/lib/python3.7/dist-packages/statsmodels/tools/_testing.py:19: FutureWarning: pandas.util.testing is deprecated. Use the functions in the public API at pandas.testing instead.\n",
            "  import pandas.util.testing as tm\n"
          ]
        }
      ]
    },
    {
      "cell_type": "markdown",
      "metadata": {
        "id": "Cxj_HCvaUwZq"
      },
      "source": [
        "# Problem 2"
      ]
    },
    {
      "cell_type": "markdown",
      "metadata": {
        "id": "z4-5dLXZuKue"
      },
      "source": [
        "Following the same premises as with the European grid network, the code to  clean and process the data, as well as building the undirected graph is:"
      ]
    },
    {
      "cell_type": "code",
      "metadata": {
        "id": "k72HLZPwe-3n"
      },
      "source": [
        "american_grid_edges_url = 'https://raw.githubusercontent.com/ftheberge/GraphMiningNotebooks/master/Datasets/GridNorthAmerica/gridkit_north_america-highvoltage-links.csv'\n",
        "american_grid_nodes_url = 'https://raw.githubusercontent.com/ftheberge/GraphMiningNotebooks/master/Datasets/GridNorthAmerica/gridkit_north_america-highvoltage-vertices.csv'"
      ],
      "execution_count": null,
      "outputs": []
    },
    {
      "cell_type": "code",
      "metadata": {
        "id": "HIF4r2sjUoKJ"
      },
      "source": [
        "## Read links csv file - Grid North America\n",
        "ENA = pd.read_csv(american_grid_edges_url)\n",
        "ENA = ENA[['v_id_1','v_id_2']]\n",
        "tup = [tuple(x) for x in ENA.values]\n",
        "GNA = ig.Graph.TupleList(tup, directed = False)\n",
        "GNA = GNA.simplify()\n",
        "\n",
        "## Sorter index\n",
        "idx = [int(i) for i in GNA.vs['name']]\n",
        "sorterIndex_GNA = dict(zip(idx,range(len(idx))))\n",
        "\n",
        "## Read vertices csv file and other attributes - Grid North America\n",
        "VNA = pd.read_csv(american_grid_nodes_url)\n",
        "VNA = VNA[['v_id','lon','lat','typ']]\n",
        "VNA['Rank'] = VNA['v_id'].map(sorterIndex_GNA)\n",
        "VNA.sort_values(['Rank'], ascending=[True],inplace=True)\n",
        "VNA.dropna(inplace=True)\n",
        "\n",
        "## Combining the two datasets\n",
        "GNA.vs['longitude'] = list(VNA['lon'])\n",
        "GNA.vs['latitude'] = list(VNA['lat'])\n",
        "GNA.vs['type'] = list(VNA['typ'])\n",
        "## Tuples with lat/lon\n",
        "GNA.vs['layout'] = [(v['longitude'],v['latitude']) for v in GNA.vs()]\n",
        "GNA.vs['size'] = 3\n",
        "GNA.es['color'] = 'grey'\n",
        "GNA.vs['color'] = 'black'"
      ],
      "execution_count": null,
      "outputs": []
    },
    {
      "cell_type": "markdown",
      "metadata": {
        "id": "arQDut57uSqt"
      },
      "source": [
        "Below is the code to calculate the basic descriptive statistics included in Table 1.1 of the text book, but for the North America grid network:"
      ]
    },
    {
      "cell_type": "code",
      "metadata": {
        "colab": {
          "base_uri": "https://localhost:8080/",
          "height": 483
        },
        "id": "iqurqp90es-x",
        "outputId": "99884e7a-3652-4370-ebf7-6a995084e788"
      },
      "source": [
        "## Creating repeatable process\n",
        "def baseStats(G):\n",
        "    deg = G.degree()\n",
        "    return [G.vcount(),G.ecount(),np.min(deg),np.mean(deg),np.median(deg),np.quantile(deg,.99),\n",
        "            np.max(deg),G.diameter(),np.max(G.clusters().membership)+1,G.clusters().giant().vcount(),\n",
        "            sum([x==0 for x in G.degree()]),G.transitivity_undirected(mode='nan'),\n",
        "            G.transitivity_avglocal_undirected(mode='nan')]\n",
        "##Storing the same basic stats of table 1.1\n",
        "Stats = []\n",
        "Stats.append(['Grid North America'] + baseStats(GNA))\n",
        "Stats_tab = pd.DataFrame(Stats,columns=['graph','# nodes','# edges',r'min degree',r'mean degree',r'median degree',\n",
        "                            r'quant99 degree',r'max degree','diameter','# components','largest component',\n",
        "                            '# isolates',r'Cglob',r'Cloc']).transpose()\n",
        "Stats_tab"
      ],
      "execution_count": null,
      "outputs": [
        {
          "output_type": "execute_result",
          "data": {
            "text/html": [
              "<div>\n",
              "<style scoped>\n",
              "    .dataframe tbody tr th:only-of-type {\n",
              "        vertical-align: middle;\n",
              "    }\n",
              "\n",
              "    .dataframe tbody tr th {\n",
              "        vertical-align: top;\n",
              "    }\n",
              "\n",
              "    .dataframe thead th {\n",
              "        text-align: right;\n",
              "    }\n",
              "</style>\n",
              "<table border=\"1\" class=\"dataframe\">\n",
              "  <thead>\n",
              "    <tr style=\"text-align: right;\">\n",
              "      <th></th>\n",
              "      <th>0</th>\n",
              "    </tr>\n",
              "  </thead>\n",
              "  <tbody>\n",
              "    <tr>\n",
              "      <th>graph</th>\n",
              "      <td>Grid North America</td>\n",
              "    </tr>\n",
              "    <tr>\n",
              "      <th># nodes</th>\n",
              "      <td>16167</td>\n",
              "    </tr>\n",
              "    <tr>\n",
              "      <th># edges</th>\n",
              "      <td>20242</td>\n",
              "    </tr>\n",
              "    <tr>\n",
              "      <th>min degree</th>\n",
              "      <td>1</td>\n",
              "    </tr>\n",
              "    <tr>\n",
              "      <th>mean degree</th>\n",
              "      <td>2.50411</td>\n",
              "    </tr>\n",
              "    <tr>\n",
              "      <th>median degree</th>\n",
              "      <td>2</td>\n",
              "    </tr>\n",
              "    <tr>\n",
              "      <th>quant99 degree</th>\n",
              "      <td>7</td>\n",
              "    </tr>\n",
              "    <tr>\n",
              "      <th>max degree</th>\n",
              "      <td>22</td>\n",
              "    </tr>\n",
              "    <tr>\n",
              "      <th>diameter</th>\n",
              "      <td>138</td>\n",
              "    </tr>\n",
              "    <tr>\n",
              "      <th># components</th>\n",
              "      <td>34</td>\n",
              "    </tr>\n",
              "    <tr>\n",
              "      <th>largest component</th>\n",
              "      <td>14990</td>\n",
              "    </tr>\n",
              "    <tr>\n",
              "      <th># isolates</th>\n",
              "      <td>0</td>\n",
              "    </tr>\n",
              "    <tr>\n",
              "      <th>Cglob</th>\n",
              "      <td>0.102377</td>\n",
              "    </tr>\n",
              "    <tr>\n",
              "      <th>Cloc</th>\n",
              "      <td>0.104157</td>\n",
              "    </tr>\n",
              "  </tbody>\n",
              "</table>\n",
              "</div>"
            ],
            "text/plain": [
              "                                    0\n",
              "graph              Grid North America\n",
              "# nodes                         16167\n",
              "# edges                         20242\n",
              "min degree                          1\n",
              "mean degree                   2.50411\n",
              "median degree                       2\n",
              "quant99 degree                      7\n",
              "max degree                         22\n",
              "diameter                          138\n",
              "# components                       34\n",
              "largest component               14990\n",
              "# isolates                          0\n",
              "Cglob                        0.102377\n",
              "Cloc                         0.104157"
            ]
          },
          "metadata": {},
          "execution_count": 6
        }
      ]
    },
    {
      "cell_type": "markdown",
      "metadata": {
        "id": "45DJn0Kyzp7U"
      },
      "source": [
        "# Problem 3"
      ]
    },
    {
      "cell_type": "markdown",
      "metadata": {
        "id": "jHJj6ike0c2W"
      },
      "source": [
        "Below is the code to process the github graph, and to create the github ml subgraph:\n"
      ]
    },
    {
      "cell_type": "code",
      "metadata": {
        "id": "fHhmGyygg8Cf"
      },
      "source": [
        "musae_git_target_url = 'https://raw.githubusercontent.com/ftheberge/GraphMiningNotebooks/master/Datasets/GitHubDevelopers/musae_git_target.csv'\n",
        "musae_git_edges_url = 'https://raw.githubusercontent.com/ftheberge/GraphMiningNotebooks/master/Datasets/GitHubDevelopers/musae_git_edges.csv'"
      ],
      "execution_count": null,
      "outputs": []
    },
    {
      "cell_type": "code",
      "metadata": {
        "colab": {
          "base_uri": "https://localhost:8080/"
        },
        "id": "niA2K5EvzwmP",
        "outputId": "1da2a927-a0b9-4dc8-967c-032e6ea64da3"
      },
      "source": [
        "## read the GitHub edge list as tuples and build undirected graph\n",
        "D = pd.read_csv(musae_git_edges_url)\n",
        "tuples = [tuple(x) for x in D.values]\n",
        "gh = ig.Graph.TupleList(tuples, directed = False)\n",
        "\n",
        "## add some node features, here there are two class of nodes\n",
        "## 0: web developer (red), 1: ml developer (blue)\n",
        "X = pd.read_csv(musae_git_target_url)\n",
        "idx = [int(i) for i in gh.vs['name']]\n",
        "sorterIndex = dict(zip(idx,range(len(idx))))\n",
        "X['Rank'] = X['id'].map(sorterIndex)\n",
        "X.sort_values(['Rank'], ascending=[True],inplace=True)\n",
        "X.dropna(inplace=True)\n",
        "#gh.vs['target'] = list(X['ml_target'])\n",
        "cls = ['grey','black'] ## node colors\n",
        "lbl = ['web','ml']     ## node labels\n",
        "gh.vs['color'] = [cls[i] for i in list(X['ml_target'])]\n",
        "gh.vs['lbl'] = [lbl[i] for i in list(X['ml_target'])]\n",
        "gh.es['color'] = 'grey' ## edge color\n",
        "\n",
        "## build the subgraphs\n",
        "gh_ml = gh.subgraph([v for v in gh.vs() if v['lbl']=='ml'])\n",
        "gh_web = gh.subgraph([v for v in gh.vs() if v['lbl']=='web'])\n",
        "\n",
        "## there are 9739 ml developers and 27961 web developers\n",
        "print('GitHub nodes:',gh.vcount(),'; ml developers:',gh_ml.vcount(),'; web developers:',gh_web.vcount())"
      ],
      "execution_count": null,
      "outputs": [
        {
          "output_type": "stream",
          "name": "stdout",
          "text": [
            "GitHub nodes: 37700 ; ml developers: 9739 ; web developers: 27961\n"
          ]
        }
      ]
    },
    {
      "cell_type": "markdown",
      "metadata": {
        "id": "Dd1c0IWuudCO"
      },
      "source": [
        "Now, the subgraphed is also subgraphed taking only the nodes with at least one edge, for computing purposes:"
      ]
    },
    {
      "cell_type": "code",
      "metadata": {
        "id": "Ktaj52Gu69mk",
        "colab": {
          "base_uri": "https://localhost:8080/"
        },
        "outputId": "63245ca5-83f7-488f-f426-51dd85f5581f"
      },
      "source": [
        "## Create subgraph only with connected nodes\n",
        "con_ml = gh_ml.subgraph_edges(gh_ml.get_edgelist(), delete_vertices = True)\n",
        "## Number of nodes in \n",
        "print('Nodes of connected ml developers (at least one edge):',len(con_ml.vs()))"
      ],
      "execution_count": null,
      "outputs": [
        {
          "output_type": "stream",
          "name": "stdout",
          "text": [
            "Nodes of connected ml developers (at least one edge): 7431\n"
          ]
        }
      ]
    },
    {
      "cell_type": "markdown",
      "metadata": {
        "id": "7menC0P8QPyQ"
      },
      "source": [
        "Following the procedure described in https://www.um.edu.mt/library/oar/bitstream/123456789/24439/1/powers%20of%20the%20adjacency%20matrix.pdf , the code to calculate the number of walks is:"
      ]
    },
    {
      "cell_type": "markdown",
      "metadata": {
        "id": "UfEcqQYiWnc-"
      },
      "source": [
        "3a"
      ]
    },
    {
      "cell_type": "code",
      "metadata": {
        "id": "y8NfsgsEPecI"
      },
      "source": [
        "## Adjacency matrix\n",
        "adj_ml = con_ml.get_adjacency()\n",
        "numadj_ml = np.array(adj_ml.data)"
      ],
      "execution_count": null,
      "outputs": []
    },
    {
      "cell_type": "markdown",
      "metadata": {
        "id": "4JyPUxV4vmc3"
      },
      "source": [
        "For computing purposes, walks of only length 3 will be calculated (takes about 3 hours to run), that is:"
      ]
    },
    {
      "cell_type": "code",
      "metadata": {
        "id": "46AR9CzBvWEx"
      },
      "source": [
        "## Calculating the number of walks\n",
        "B = csr_matrix(numadj_ml).todense()\n",
        "power3 = matrix_power(B,3)"
      ],
      "execution_count": null,
      "outputs": []
    },
    {
      "cell_type": "code",
      "metadata": {
        "colab": {
          "base_uri": "https://localhost:8080/"
        },
        "id": "JplWKxQPvuz2",
        "outputId": "29da43c1-be37-4281-c178-b729afcce92f"
      },
      "source": [
        "print('Walks of length 3: ', np.sum(power3)/2)"
      ],
      "execution_count": null,
      "outputs": [
        {
          "output_type": "stream",
          "name": "stdout",
          "text": [
            "Walks of length 3:  17007495.0\n"
          ]
        }
      ]
    },
    {
      "cell_type": "markdown",
      "metadata": {
        "id": "9gX0ZDUuvzw8"
      },
      "source": [
        "Walks of length 5: 18087602377.0 (Note: The computation was performed on AWS.)"
      ]
    },
    {
      "cell_type": "code",
      "metadata": {
        "id": "8BGZfhRpbFKi"
      },
      "source": [
        "##B = csr_matrix(numadj_ml).todense()\n",
        "##power5 = matrix_power(B,5)\n",
        "##print('Walks of length 5: ', np.sum(power5)/2)"
      ],
      "execution_count": null,
      "outputs": []
    },
    {
      "cell_type": "markdown",
      "metadata": {
        "id": "T7CcbPz5bOTc"
      },
      "source": [
        "Regarding the number of cycles of length 4 (induced, that is, without chords), let us first loop through all nodes to calculate all simple paths of up to length 4 starting and finishing on it "
      ]
    },
    {
      "cell_type": "markdown",
      "metadata": {
        "id": "IrLDBmyuXBNu"
      },
      "source": [
        "3b"
      ]
    },
    {
      "cell_type": "code",
      "metadata": {
        "id": "MkWNQyTS40gc"
      },
      "source": [
        "paths = []\n",
        "length = 4\n",
        "number = len(con_ml.vs())\n",
        "##for n1 in con_ml.vs()[0:number]:\n",
        "##    for n2 in con_ml.vs()[0:number]:\n",
        "## Loop through each node\n",
        "for n1 in con_ml.vs():\n",
        "    for n2 in con_ml.vs():\n",
        "        ## Only when nodes are different\n",
        "        if (n1 != n2):\n",
        "            directpaths = con_ml.get_all_simple_paths(v = n2, to = n1, cutoff = 1)\n",
        "            ## Identify if there's an edge between the nodes\n",
        "            if (len(directpaths) > 0):\n",
        "                ## Get all simple paths between the pair of up to length - 1\n",
        "                pathsl = con_ml.get_all_simple_paths(v = n1, to = n2, cutoff = length - 1)\n",
        "                if (len(pathsl) > 0):\n",
        "                    for p in pathsl:\n",
        "                        ## For every simple path of length\n",
        "                        if (len(p) == length):\n",
        "                            ## Generate subgraph\n",
        "                            sb_ml_temp = con_ml.induced_subgraph(p)\n",
        "                            edges_temp = sb_ml_temp.get_edgelist()\n",
        "                            ## Validate if chordless (it should only have length edges)\n",
        "                            if (len(edges_temp) == length):\n",
        "                                p.append(p[0])\n",
        "                                paths.append(p)"
      ],
      "execution_count": null,
      "outputs": []
    },
    {
      "cell_type": "code",
      "metadata": {
        "colab": {
          "base_uri": "https://localhost:8080/"
        },
        "id": "gKs6mpVaUzVu",
        "outputId": "e77f1916-a0c1-4c46-da47-14415bf8c5e9"
      },
      "source": [
        "print('Total evaluated chordless of length', length, 'cycles: ', len(paths))\n",
        "print('Adjusted chordless cycles of length', length, ': ', len(paths)/(2*length))"
      ],
      "execution_count": null,
      "outputs": [
        {
          "output_type": "stream",
          "name": "stdout",
          "text": [
            "Total evaluated chordless of length 4 cycles:  673280\n",
            "Adjusted chordless cycles of length 4 :  84160.0\n"
          ]
        }
      ]
    },
    {
      "cell_type": "markdown",
      "metadata": {
        "id": "WtwZwCyTmK6H"
      },
      "source": [
        "# Problem 4"
      ]
    },
    {
      "cell_type": "code",
      "metadata": {
        "id": "Ca47yWJXLsIb"
      },
      "source": [
        "airport_url = 'https://raw.githubusercontent.com/ftheberge/GraphMiningNotebooks/master/Datasets/Airports/connections.csv'\n",
        "airportloc_url = 'https://raw.githubusercontent.com/ftheberge/GraphMiningNotebooks/master/Datasets/Airports/airports_loc.csv'\n",
        "airport_df = pd.read_csv(airport_url)\n",
        "# airport_edges = airport_df[['orig_airport', 'dest_airport']].copy()\n",
        "# air_edges_tuple = [tuple(x) for x in airport_edges.values]\n",
        "air_gr = ig.Graph.TupleList(airport_df.values, \n",
        "                            weights = True, \n",
        "                            directed = True)\n",
        "# This assumes that the first three columns of edges_df are respectively the source, \n",
        "# the target and the edge weight. \n",
        "# The names of the columns are irrelevant in this case."
      ],
      "execution_count": null,
      "outputs": []
    },
    {
      "cell_type": "markdown",
      "metadata": {
        "id": "42nlU5U4OZSG"
      },
      "source": [
        "4a"
      ]
    },
    {
      "cell_type": "code",
      "metadata": {
        "colab": {
          "base_uri": "https://localhost:8080/",
          "height": 287
        },
        "id": "YI4EHwJXOBj9",
        "outputId": "081ed5db-45bb-47c3-ff8a-a81f7969d0b2"
      },
      "source": [
        "deg = air_gr.degree()\n",
        "e = ecdf(deg)\n",
        "x = np.arange(1,max(deg),1)\n",
        "y = [e(i) for i in x]\n",
        "plt.semilogx(x,y,'-',color='black',label='Airport')\n",
        "plt.yscale(\"log\")\n",
        "plt.xlabel('degree',fontsize=14)\n",
        "plt.ylabel('empirical cdf',fontsize=14);"
      ],
      "execution_count": null,
      "outputs": [
        {
          "output_type": "display_data",
          "data": {
            "image/png": "[encoded data removed]",
            "text/plain": [
              "<Figure size 432x288 with 1 Axes>"
            ]
          },
          "metadata": {
            "needs_background": "light"
          }
        }
      ]
    },
    {
      "cell_type": "markdown",
      "metadata": {
        "id": "6ufny2_AOp5H"
      },
      "source": [
        "4b"
      ]
    },
    {
      "cell_type": "code",
      "metadata": {
        "colab": {
          "base_uri": "https://localhost:8080/"
        },
        "id": "ATmbFuUOOgwV",
        "outputId": "d84fcb10-f59c-4eb4-e49a-6de61bfce20b"
      },
      "source": [
        "deg_dict = dict(zip(air_gr.vs['name'], deg))\n",
        "# deg_dict\n",
        "print(air_gr.vs['name'][deg.index(max(deg))])"
      ],
      "execution_count": null,
      "outputs": [
        {
          "output_type": "stream",
          "name": "stdout",
          "text": [
            "ATL\n"
          ]
        }
      ]
    },
    {
      "cell_type": "markdown",
      "metadata": {
        "id": "cPloTRhPNp8O"
      },
      "source": [
        "The busiest airport in terms of the total degree is Atlanta. "
      ]
    },
    {
      "cell_type": "markdown",
      "metadata": {
        "id": "b9G1QVqlO6rt"
      },
      "source": [
        "4c"
      ]
    },
    {
      "cell_type": "code",
      "metadata": {
        "colab": {
          "base_uri": "https://localhost:8080/",
          "height": 35
        },
        "id": "XSdzp-R2O2y7",
        "outputId": "5969eccb-0768-4881-863c-3a311c3003e5"
      },
      "source": [
        "components = air_gr.clusters()\n",
        "components.summary()"
      ],
      "execution_count": null,
      "outputs": [
        {
          "output_type": "execute_result",
          "data": {
            "application/vnd.google.colaboratory.intrinsic+json": {
              "type": "string"
            },
            "text/plain": [
              "'Clustering with 464 elements and 40 clusters'"
            ]
          },
          "metadata": {},
          "execution_count": 13
        }
      ]
    },
    {
      "cell_type": "markdown",
      "metadata": {
        "id": "QZb7P85VMxHh"
      },
      "source": [
        "4d"
      ]
    },
    {
      "cell_type": "code",
      "metadata": {
        "id": "qo2Wa07amZSU"
      },
      "source": [
        "## Sorter index\n",
        "idx = [(i) for i in air_gr.vs['name']]\n",
        "si = dict(zip(idx,range(len(idx))))"
      ],
      "execution_count": null,
      "outputs": []
    },
    {
      "cell_type": "code",
      "metadata": {
        "id": "TlI3JPmgma4I"
      },
      "source": [
        "## Read vertices csv file and other attributes - Grid North America\n",
        "n_airport_df = pd.read_csv(airportloc_url)\n",
        "n_airport_df['Rank'] = n_airport_df['airport'].map(si)\n",
        "n_airport_df.sort_values(['Rank'], ascending=[True],inplace=True)\n",
        "n_airport_df.dropna(inplace=True)"
      ],
      "execution_count": null,
      "outputs": []
    },
    {
      "cell_type": "code",
      "metadata": {
        "id": "yUNdeYAsmc2O"
      },
      "source": [
        "## Combining the two datasets\n",
        "air_gr.vs['longitude'] = list(n_airport_df['lon'])\n",
        "air_gr.vs['latitude'] = list(n_airport_df['lat'])\n",
        "air_gr.vs['state'] = list(n_airport_df['state'])\n",
        "air_gr.vs['city'] = list(n_airport_df['city'])\n",
        "## Tuples with lat/lon\n",
        "air_gr.vs['layout'] = [(v['longitude'],v['latitude']) for v in air_gr.vs()]"
      ],
      "execution_count": null,
      "outputs": []
    },
    {
      "cell_type": "code",
      "metadata": {
        "id": "8z9MrbRYmfer"
      },
      "source": [
        "## build the California subgraph\n",
        "air_ca = air_gr.subgraph([v for v in air_gr.vs() if v['state']=='CA'])"
      ],
      "execution_count": null,
      "outputs": []
    },
    {
      "cell_type": "code",
      "metadata": {
        "colab": {
          "base_uri": "https://localhost:8080/"
        },
        "id": "VmLYaVT0mhN6",
        "outputId": "f62bb6ea-8824-4cf0-d596-e81a7f69341d"
      },
      "source": [
        "print('Total California Airport nodes:',air_ca.vcount())\n",
        "print('Total Isolate California Airport nodes:',sum([x==0 for x in air_ca.degree()]))"
      ],
      "execution_count": null,
      "outputs": [
        {
          "output_type": "stream",
          "name": "stdout",
          "text": [
            "Total California Airport nodes: 31\n",
            "Total Isolate California Airport nodes: 9\n"
          ]
        }
      ]
    },
    {
      "cell_type": "markdown",
      "metadata": {
        "id": "ydyrSAeVsOK5"
      },
      "source": [
        "# Problem 5"
      ]
    },
    {
      "cell_type": "code",
      "metadata": {
        "id": "q7GQjOD5szbu"
      },
      "source": [
        "eu_grid_edges_url = 'https://raw.githubusercontent.com/ftheberge/GraphMiningNotebooks/master/Datasets/GridEurope/gridkit_europe-highvoltage-links.csv'\n",
        "eu_grid_nodes_url = 'https://raw.githubusercontent.com/ftheberge/GraphMiningNotebooks/master/Datasets/GridEurope/gridkit_europe-highvoltage-vertices.csv'\n",
        "eu_edges_df = pd.read_csv(eu_grid_edges_url)\n",
        "edges = eu_edges_df[['v_id_1', 'v_id_2']].copy()\n",
        "X = pd.read_csv(eu_grid_nodes_url)"
      ],
      "execution_count": null,
      "outputs": []
    },
    {
      "cell_type": "code",
      "metadata": {
        "id": "V1IswLiUs2lM"
      },
      "source": [
        "## read edge list for the grid network and build undirected graph\n",
        "edges_tuple = [tuple(x) for x in edges.values]\n",
        "gr = ig.Graph.TupleList(edges_tuple, directed = False)\n",
        "gr = gr.simplify()\n",
        "\n",
        "## read the vertices along with some of the attributes\n",
        "idx = [int(i) for i in gr.vs['name']]\n",
        "sorterIndex = dict(zip(idx,range(len(idx))))\n",
        "X['Rank'] = X['v_id'].map(sorterIndex)\n",
        "X.sort_values(['Rank'], ascending=[True],inplace=True)\n",
        "X.dropna(inplace=True)\n",
        "gr.vs['longitude'] = list(X['lon'])\n",
        "gr.vs['latitude'] = list(X['lat'])\n",
        "gr.vs['type'] = list(X['typ'])\n",
        "gr.vs['layout'] = [(v['longitude'],v['latitude']) for v in gr.vs()] ## tuples with lat/lon\n",
        "gr.vs['size'] = 3\n",
        "gr.es['color'] = 'grey'\n",
        "gr.vs['color'] = 'black'"
      ],
      "execution_count": null,
      "outputs": []
    },
    {
      "cell_type": "code",
      "metadata": {
        "colab": {
          "base_uri": "https://localhost:8080/",
          "height": 283
        },
        "id": "HrSCRYItKxm5",
        "outputId": "c99eac42-f6f9-4482-a3c2-69cec6ed7c31"
      },
      "source": [
        "sg = gr.clusters().giant()\n",
        "v_lst = [i for i in range(sg.vcount())]\n",
        "random_pairs = random.sample(list(combinations(v_lst, 2)), 100)\n",
        "path_lst = [sg.shortest_paths(random_pairs[i][0], random_pairs[i][1])[0][0] for i in range(len(random_pairs))]\n",
        "dist_lst = [hv(sg.vs[random_pairs[i][0]]['layout'], sg.vs[random_pairs[i][1]]['layout']) for i in range(len(random_pairs))]\n",
        "\n",
        "plt.scatter(path_lst, dist_lst, marker='o')\n",
        "plt.xlabel('graph distance',fontsize=14)\n",
        "plt.ylabel('geographical distance (km)',fontsize=14);"
      ],
      "execution_count": null,
      "outputs": [
        {
          "output_type": "display_data",
          "data": {
            "image/png": "[encoded data removed]",
            "text/plain": [
              "<Figure size 432x288 with 1 Axes>"
            ]
          },
          "metadata": {
            "needs_background": "light"
          }
        }
      ]
    },
    {
      "cell_type": "code",
      "metadata": {
        "colab": {
          "base_uri": "https://localhost:8080/",
          "height": 282
        },
        "id": "JpbY66NCNpw5",
        "outputId": "86e8ad28-ee4a-47ee-b3ea-7742d72c1ef3"
      },
      "source": [
        "x_data = np.array(path_lst)   \n",
        "y_data = np.array(dist_lst)     \n",
        "log_y_data = np.log(y_data)             \n",
        "# log_x_data = np.log(x_data)   \n",
        "curve = np.polyfit(x_data, log_y_data, 1)\n",
        "a, b = curve\n",
        "y = np.exp(b) * np.exp(a*x_data)\n",
        "plt.scatter(x_data, y_data)\n",
        "  \n",
        "# Best fit in red\n",
        "plt.plot(x_data, y, 'r')"
      ],
      "execution_count": null,
      "outputs": [
        {
          "output_type": "execute_result",
          "data": {
            "text/plain": [
              "[<matplotlib.lines.Line2D at 0x7f40fb465b50>]"
            ]
          },
          "metadata": {},
          "execution_count": 36
        },
        {
          "output_type": "display_data",
          "data": {
            "image/png": "[encoded data removed]",
            "text/plain": [
              "<Figure size 432x288 with 1 Axes>"
            ]
          },
          "metadata": {
            "needs_background": "light"
          }
        }
      ]
    }
  ]
}