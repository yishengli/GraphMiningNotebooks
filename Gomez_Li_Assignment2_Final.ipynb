{
  "nbformat": 4,
  "nbformat_minor": 0,
  "metadata": {
    "colab": {
      "name": "Gomez_Li_Assignment2_Final.ipynb",
      "provenance": [],
      "collapsed_sections": [],
      "include_colab_link": true
    },
    "kernelspec": {
      "name": "python3",
      "display_name": "Python 3"
    },
    "language_info": {
      "name": "python"
    }
  },
  "cells": [
    {
      "cell_type": "markdown",
      "metadata": {
        "id": "view-in-github",
        "colab_type": "text"
      },
      "source": [
        "<a href=\"https://colab.research.google.com/github/yishengli/GraphMiningNotebooks/blob/master/Gomez_Li_Assignment2_Final.ipynb\" target=\"_parent\"><img src=\"https://colab.research.google.com/assets/colab-badge.svg\" alt=\"Open In Colab\"/></a>"
      ]
    },
    {
      "cell_type": "code",
      "metadata": {
        "colab": {
          "base_uri": "https://localhost:8080/"
        },
        "id": "JHGcGbfXQu8v",
        "outputId": "17e91f34-fb4c-46ae-e2da-2a2359df83d4"
      },
      "source": [
        "pip install python-igraph"
      ],
      "execution_count": null,
      "outputs": [
        {
          "output_type": "stream",
          "name": "stdout",
          "text": [
            "Collecting python-igraph\n",
            "  Downloading python_igraph-0.9.6-cp37-cp37m-manylinux2010_x86_64.whl (3.2 MB)\n",
            "\u001b[K     |████████████████████████████████| 3.2 MB 4.8 MB/s \n",
            "\u001b[?25hCollecting texttable>=1.6.2\n",
            "  Downloading texttable-1.6.4-py2.py3-none-any.whl (10 kB)\n",
            "Installing collected packages: texttable, python-igraph\n",
            "Successfully installed python-igraph-0.9.6 texttable-1.6.4\n"
          ]
        }
      ]
    },
    {
      "cell_type": "code",
      "metadata": {
        "colab": {
          "base_uri": "https://localhost:8080/"
        },
        "id": "STX1GmZtQz0y",
        "outputId": "bcc2b99e-64ed-4c4b-cd2c-a8de5d148bb6"
      },
      "source": [
        "pip install plfit"
      ],
      "execution_count": null,
      "outputs": [
        {
          "output_type": "stream",
          "name": "stdout",
          "text": [
            "Collecting plfit\n",
            "  Downloading plfit-1.0.3.tar.gz (193 kB)\n",
            "\u001b[?25l\r\u001b[K     |█▊                              | 10 kB 16.0 MB/s eta 0:00:01\r\u001b[K     |███▍                            | 20 kB 19.9 MB/s eta 0:00:01\r\u001b[K     |█████                           | 30 kB 15.6 MB/s eta 0:00:01\r\u001b[K     |██████▊                         | 40 kB 10.6 MB/s eta 0:00:01\r\u001b[K     |████████▌                       | 51 kB 5.2 MB/s eta 0:00:01\r\u001b[K     |██████████▏                     | 61 kB 5.4 MB/s eta 0:00:01\r\u001b[K     |███████████▉                    | 71 kB 5.6 MB/s eta 0:00:01\r\u001b[K     |█████████████▌                  | 81 kB 6.2 MB/s eta 0:00:01\r\u001b[K     |███████████████▏                | 92 kB 4.7 MB/s eta 0:00:01\r\u001b[K     |█████████████████               | 102 kB 5.2 MB/s eta 0:00:01\r\u001b[K     |██████████████████▋             | 112 kB 5.2 MB/s eta 0:00:01\r\u001b[K     |████████████████████▎           | 122 kB 5.2 MB/s eta 0:00:01\r\u001b[K     |██████████████████████          | 133 kB 5.2 MB/s eta 0:00:01\r\u001b[K     |███████████████████████▋        | 143 kB 5.2 MB/s eta 0:00:01\r\u001b[K     |█████████████████████████▍      | 153 kB 5.2 MB/s eta 0:00:01\r\u001b[K     |███████████████████████████     | 163 kB 5.2 MB/s eta 0:00:01\r\u001b[K     |████████████████████████████▊   | 174 kB 5.2 MB/s eta 0:00:01\r\u001b[K     |██████████████████████████████▍ | 184 kB 5.2 MB/s eta 0:00:01\r\u001b[K     |████████████████████████████████| 193 kB 5.2 MB/s \n",
            "\u001b[?25hRequirement already satisfied: numpy in /usr/local/lib/python3.7/dist-packages (from plfit) (1.19.5)\n",
            "Requirement already satisfied: cython in /usr/local/lib/python3.7/dist-packages (from plfit) (0.29.24)\n",
            "Building wheels for collected packages: plfit\n",
            "  Building wheel for plfit (setup.py) ... \u001b[?25l\u001b[?25hdone\n",
            "  Created wheel for plfit: filename=plfit-1.0.3-cp37-cp37m-linux_x86_64.whl size=123185 sha256=290142aeb9093f71928cb0b39726f4c9e64bdffeccb2b419536907a221ca2840\n",
            "  Stored in directory: /root/.cache/pip/wheels/44/c5/30/2761386f6aea1d7ca4ffb706f90535faa81365be034b32055a\n",
            "Successfully built plfit\n",
            "Installing collected packages: plfit\n",
            "Successfully installed plfit-1.0.3\n"
          ]
        }
      ]
    },
    {
      "cell_type": "code",
      "metadata": {
        "id": "_z1yT_17Q3tr"
      },
      "source": [
        "import igraph as ig\n",
        "import numpy as np\n",
        "import pandas as pd\n",
        "import matplotlib.pyplot as plt\n",
        "from sklearn.linear_model import LinearRegression\n",
        "from collections import Counter\n",
        "import plfit\n",
        "from scipy.stats import poisson\n",
        "from math import factorial\n",
        "import multiprocessing as mp\n",
        "from multiprocessing import cpu_count"
      ],
      "execution_count": null,
      "outputs": []
    },
    {
      "cell_type": "markdown",
      "metadata": {
        "id": "O9fItPDXQ9c2"
      },
      "source": [
        "# Problem 3"
      ]
    },
    {
      "cell_type": "markdown",
      "metadata": {
        "id": "-g3k-6nSkC6E"
      },
      "source": [
        "See the code below with the most important functions to calculate the empirical and theoretical number of isolated edges:"
      ]
    },
    {
      "cell_type": "code",
      "metadata": {
        "id": "3TH-PjriTk7Y"
      },
      "source": [
        "def prob(n, c):\n",
        "    \"\"\"P(n) function\"\"\"\n",
        "    p = (np.log(n) + np.log(np.log(n)) + c)/(2*n)\n",
        "    return p\n",
        "\n",
        "def iso_edges(g):\n",
        "    \"\"\"Function - Number of isolated edges of a graph\"\"\"\n",
        "    isoe = 0\n",
        "    clus = g.clusters()\n",
        "    for clu in clus:\n",
        "        if (len(clu) == 2):\n",
        "            isoe += 1\n",
        "    return isoe\n",
        "\n",
        "def empirical_isoe(n, REP, C):\n",
        "    \"\"\"Empirical function using P(n)\"\"\"\n",
        "    ie_avg = []\n",
        "    ie_std = []\n",
        "\n",
        "    for c in C: \n",
        "      x = [iso_edges(ig.Graph.Erdos_Renyi(n=n, p=prob(n, c))) for rep in range(REP)]\n",
        "      ie_avg.append(np.mean(x))\n",
        "      ie_std.append(np.std(x))\n",
        "\n",
        "    return ie_avg, ie_std\n",
        "\n",
        "def theoretical(n):\n",
        "    \"\"\"Theoretical values - isolated edges\"\"\"\n",
        "    th = [np.exp(-c)/4 for c in C]\n",
        "    return th\n",
        "\n",
        "def plot_isoe(ie_avg, ie_stg, th, C, n):\n",
        "    ie_max = [ie_avg[i] + 1.654*np.sqrt(ie_std[i]/n) for i in range(0, len(ie_avg))]\n",
        "    ie_min = [ie_avg[i] - 1.654*np.sqrt(ie_std[i]/n) for i in range(0, len(ie_avg))]\n",
        "    plt.fill_between(C, ie_min, ie_max, color='lightgray')\n",
        "    plt.plot(C,th,color='black')\n",
        "    plt.title('Theoretical predictions (black) vs empirical results (grey)')\n",
        "    plt.xlabel(r'constant $c$',fontsize=14)\n",
        "    plt.ylabel('Number of isolated edges',fontsize=14);"
      ],
      "execution_count": null,
      "outputs": []
    },
    {
      "cell_type": "code",
      "metadata": {
        "id": "5MUKaIwgQt4b",
        "cellView": "form"
      },
      "source": [
        "#@title\n",
        "## P(n) function\n",
        "def prob(n, c):\n",
        "    p = (np.log(n) + np.log(np.log(n)) + c)/(2*n)\n",
        "    return p\n",
        "\n",
        "## Function - Number of isolated edges of a graph\n",
        "def iso_edges(g):\n",
        "    isoe = 0\n",
        "    clus = g.clusters()\n",
        "    for clu in clus:\n",
        "        if (len(clu) == 2):\n",
        "            isoe += 1\n",
        "    return isoe\n",
        "\n",
        "## Empirical function using P(n)\n",
        "## isoe = isolated edges\n",
        "def empirical_isoe(n, REP, C):\n",
        "    ie_avg = []\n",
        "    ie_std = []\n",
        "    for c in C:\n",
        "        x = []\n",
        "        for rep in range(REP):\n",
        "            p = prob(n, c)\n",
        "            g = ig.Graph.Erdos_Renyi(n=n, p=p)\n",
        "            isoe = iso_edges(g)\n",
        "            x.append(isoe)\n",
        "        ie_avg.append(np.mean(x))\n",
        "        ie_std.append(np.std(x))\n",
        "    ##return [ie_avg, ie_min, ie_max, ie_std]\n",
        "    return [ie_avg, ie_std]\n",
        "\n",
        "## Theoretical values - isolated edges\n",
        "def theoretical(n):\n",
        "    th = [np.exp(-c)/4 for c in C]\n",
        "    return th\n",
        "\n",
        "## plot\n",
        "def plot_isoe(ie_avg, ie_stg, th, C, n):\n",
        "    ##plt.fill_between(C,[x-1.654*np.sqrt(x*(1-x)/n) for x in ie_avg],\n",
        "    ##                [x+1.645*np.sqrt(x*(1-x)/n) for x in ie_avg],color='lightgray')\n",
        "    ie_max = []\n",
        "    ie_min = []\n",
        "    for i in range(0, len(ie_avg)):\n",
        "        delta = 1.654*np.sqrt(ie_std[i]/n)\n",
        "        ##print('iteration = ', i, ', average = ', ie_avg[i], ' and delta = ', delta)\n",
        "        ie_min.append(ie_avg[i] - delta)\n",
        "        ie_max.append(ie_avg[i] + delta)\n",
        "    plt.fill_between(C, ie_min, ie_max, color='lightgray')\n",
        "    plt.plot(C,th,color='black')\n",
        "    plt.title('Theoretical predictions (black) vs empirical results (grey)')\n",
        "    plt.xlabel(r'constant $c$',fontsize=14)\n",
        "    plt.ylabel('Number of isolated edges',fontsize=14);\n",
        "\n",
        "   "
      ],
      "execution_count": null,
      "outputs": []
    },
    {
      "cell_type": "markdown",
      "metadata": {
        "id": "urxVarzHkM80"
      },
      "source": [
        "Figure using n = 100"
      ]
    },
    {
      "cell_type": "code",
      "metadata": {
        "colab": {
          "base_uri": "https://localhost:8080/",
          "height": 317
        },
        "id": "IfYbb1ktaCbP",
        "outputId": "6f824d8d-ff9c-4140-e395-a7ff55c159e2"
      },
      "source": [
        "REP = 1000 ##1000 repeats\n",
        "C = np.arange(-3,3,.05)\n",
        "n = 100\n",
        "ie_avg, ie_std = empirical_isoe(n, REP, C)\n",
        "th = theoretical(n)\n",
        "plot_isoe(ie_avg, ie_std, th, C, n)"
      ],
      "execution_count": null,
      "outputs": [
        {
          "output_type": "stream",
          "name": "stdout",
          "text": [
            "120\n"
          ]
        },
        {
          "output_type": "display_data",
          "data": {
            "image/png": "[encoded data removed]",
            "text/plain": [
              "<Figure size 432x288 with 1 Axes>"
            ]
          },
          "metadata": {
            "needs_background": "light"
          }
        }
      ]
    },
    {
      "cell_type": "markdown",
      "metadata": {
        "id": "6x9_OmxR7AgR"
      },
      "source": [
        "Figure using n = 10.000"
      ]
    },
    {
      "cell_type": "code",
      "metadata": {
        "colab": {
          "base_uri": "https://localhost:8080/",
          "height": 317
        },
        "id": "Wy7cdOdrTmsC",
        "outputId": "6ac932a2-36c3-4898-8f3e-f5f32863bbd2"
      },
      "source": [
        "REP = 1000 ##1000 repeats\n",
        "C = np.arange(-3,3,.05)\n",
        "n = 10000\n",
        "ie_avg, ie_std = empirical_isoe(n, REP, C)\n",
        "th = theoretical(n)\n",
        "plot_isoe(ie_avg, ie_std, th, C, n)"
      ],
      "execution_count": null,
      "outputs": [
        {
          "output_type": "stream",
          "name": "stdout",
          "text": [
            "120\n"
          ]
        },
        {
          "output_type": "display_data",
          "data": {
            "image/png": "[encoded data removed]",
            "text/plain": [
              "<Figure size 432x288 with 1 Axes>"
            ]
          },
          "metadata": {
            "needs_background": "light"
          }
        }
      ]
    },
    {
      "cell_type": "markdown",
      "metadata": {
        "id": "N9w7954Bf7ye"
      },
      "source": [
        "# Problem 4"
      ]
    },
    {
      "cell_type": "markdown",
      "metadata": {
        "id": "pJVLEHKKgD_q"
      },
      "source": [
        "See the code below with the most important functions to calculate the empirical and theoretical number of cycles (2-regular random graphs):"
      ]
    },
    {
      "cell_type": "code",
      "metadata": {
        "id": "YMFN_uq1gZIE"
      },
      "source": [
        "def num_cyc(D=[2]*100):\n",
        "    \"\"\"The default D is for the small graph (n=100)\"\"\"\n",
        "    cyc = 0\n",
        "    k = 3\n",
        "    g = ig.Graph.Degree_Sequence(D)\n",
        "    ## For every possible lenght k\n",
        "    while (k <= len(g.vs())-1):\n",
        "        minicycles = 0\n",
        "        ## Loop through each node in g\n",
        "        for n1 in g.vs():\n",
        "            ## Loop through each neighbor of node n1\n",
        "            neigh = g.neighbors(n1, mode = 'all')\n",
        "            for n2 in neigh:\n",
        "                ## Get all simple paths regardless of length\n",
        "                paths = g.get_all_simple_paths(v = n1, to = n2, cutoff = k)\n",
        "                if (len(paths) > 1):\n",
        "                    for p in paths:\n",
        "                        ##For every simple path of length k\n",
        "                        if (len(p) == k):\n",
        "                            ## Increase count\n",
        "                            minicycles += 1\n",
        "        cyc += minicycles/(2*k)\n",
        "        k += 1\n",
        "    return cyc\n",
        "\n",
        "## Empirical function using random d-regular graphs\n",
        "## cyc = number of cycles\n",
        "def empirical_cyc_para(iter=10):\n",
        "    pool = mp.Pool(4)\n",
        "    # pool = mp.Pool(cpu_count)\n",
        "\n",
        "    future_res = [pool.apply_async(num_cyc) for _ in range(iter)]\n",
        "    res = [f.get() for f in future_res]\n",
        "    cyc_avg = np.mean(res)\n",
        "    cyc_std = np.std(res)\n",
        "    \n",
        "    return cyc_avg, cyc_std\n",
        "\n",
        "## Theoretical values - number of cycles\n",
        "def theoretical_cyc(n):\n",
        "    th_cyc = (np.log(n)*(1/2))\n",
        "    return th_cyc"
      ],
      "execution_count": null,
      "outputs": []
    },
    {
      "cell_type": "markdown",
      "metadata": {
        "id": "rs26FM97lnJA"
      },
      "source": [
        "The empirical values for the total number of cycles on small graphs of n = 100:"
      ]
    },
    {
      "cell_type": "code",
      "metadata": {
        "id": "9YHDgzU8lA58"
      },
      "source": [
        "n = 100\n",
        "REP = 1000\n",
        "th_cyc = theoretical_cyc(n)\n",
        "cyc_avg, cyc_std = empirical_cyc_para(iter=REP)"
      ],
      "execution_count": null,
      "outputs": []
    },
    {
      "cell_type": "code",
      "metadata": {
        "colab": {
          "base_uri": "https://localhost:8080/"
        },
        "id": "W8nzQ32pImUj",
        "outputId": "aa97966b-830a-4c2e-9502-77cc5fc659ba"
      },
      "source": [
        "print('n = ', n, \" | repetitions = \", REP)\n",
        "print('Empirical mean is = ', cyc_avg, 'with standard deviation of ', cyc_std)"
      ],
      "execution_count": null,
      "outputs": [
        {
          "output_type": "stream",
          "name": "stdout",
          "text": [
            "n =  100  | repetitions =  1000\n",
            "Empirical mean is =  2.445 with standard deviation of  1.2700295272158044\n"
          ]
        }
      ]
    },
    {
      "cell_type": "markdown",
      "metadata": {
        "id": "5FtyUNuilvkZ"
      },
      "source": [
        "Theoretical value"
      ]
    },
    {
      "cell_type": "code",
      "metadata": {
        "colab": {
          "base_uri": "https://localhost:8080/"
        },
        "id": "P1B3Fo5OHFl3",
        "outputId": "06056534-3b56-4bf3-eaeb-abcd3710cb34"
      },
      "source": [
        "print('n = ', n, \" | repetitions = \", REP)\n",
        "print('Theoretical value is = ', th_cyc)"
      ],
      "execution_count": null,
      "outputs": [
        {
          "output_type": "stream",
          "name": "stdout",
          "text": [
            "n =  100  | repetitions =  1000\n",
            "Theoretical value is =  2.302585092994046\n"
          ]
        }
      ]
    },
    {
      "cell_type": "markdown",
      "metadata": {
        "id": "xOsU4peul-7Z"
      },
      "source": [
        "The empirical values for the total number of cycles on medium graphs of n = 1000:\n",
        "\n",
        "NOTE: By changing n to 10,000, the number of cycles for large graphs would be calculated. However, due to computational resources, it wasn´t possible to run this code without the notebook crashing (both locally and on the Google colab instance). To speed up the computation, we tried Python multiprocessing and ran the code on AWS and the GPU of Google Colab, but nevertheless it still crashed."
      ]
    },
    {
      "cell_type": "code",
      "metadata": {
        "id": "TxDxAd7XhYuu"
      },
      "source": [
        "n = 1000\n",
        "##n = 10000\n",
        "th_cyc = theoretical_cyc(n)\n",
        "cyc_avg, cyc_std = empirical_cyc_para(iter=1000)"
      ],
      "execution_count": null,
      "outputs": []
    },
    {
      "cell_type": "code",
      "metadata": {
        "id": "FLOdVaIJheFV"
      },
      "source": [
        "print('n = ', n, \" | repetitions = \", REP)\n",
        "print('Empirical mean is = ', cyc_avg[0], 'with standard deviation of ', cyc_std[0])"
      ],
      "execution_count": null,
      "outputs": []
    },
    {
      "cell_type": "code",
      "metadata": {
        "id": "JQxqNjUKhiXg"
      },
      "source": [
        "print('n = ', n, \" | repetitions = \", REP)\n",
        "print('Theoretical value is = ', th_cyc)"
      ],
      "execution_count": null,
      "outputs": []
    },
    {
      "cell_type": "markdown",
      "metadata": {
        "id": "gdxHYJ8U3AZ9"
      },
      "source": [
        "# Problem 6"
      ]
    },
    {
      "cell_type": "markdown",
      "metadata": {
        "id": "HAY91z-A3C_h"
      },
      "source": [
        "Below is the code to calculate density using both the formula provided in the problem, and the igraph density command:"
      ]
    },
    {
      "cell_type": "code",
      "metadata": {
        "id": "FKTLFTWB37S8"
      },
      "source": [
        "n = 10000\n",
        "p = 1/4\n",
        "k = 2\n",
        "g1 = ig.Graph.Erdos_Renyi(n=n, p=p)\n",
        "g2 = ig.Graph.Erdos_Renyi(n=n, p=p)\n",
        "gu = ig.union([g1, g2], byname='auto')\n",
        "d = gu.density(loops=False)\n",
        "d1 = (len(gu.get_edgelist()))/(factorial(n)/(factorial(k)*factorial(n - k)))"
      ],
      "execution_count": null,
      "outputs": []
    },
    {
      "cell_type": "code",
      "metadata": {
        "colab": {
          "base_uri": "https://localhost:8080/"
        },
        "id": "dsZUrZIz4VZk",
        "outputId": "d0c0a83f-f467-4402-809b-dbd2f1ce0166"
      },
      "source": [
        "print('Density value of the union of graphs g1 and g2 using the igraph command = ', d)\n",
        "print('Density value of the union of graphs g1 and g2 using the formula = ', d)"
      ],
      "execution_count": null,
      "outputs": [
        {
          "output_type": "stream",
          "name": "stdout",
          "text": [
            "Density value of the union of graphs g1 and g2 using the igraph command =  0.4374679067906791\n",
            "Density value of the union of graphs g1 and g2 using the formula =  0.4374679067906791\n"
          ]
        }
      ]
    },
    {
      "cell_type": "markdown",
      "metadata": {
        "id": "ufKk8EXgOtfz"
      },
      "source": [
        "The value of the density appears to be close enough to 2p (1/2)."
      ]
    },
    {
      "cell_type": "markdown",
      "metadata": {
        "id": "PlY2dg8LaXOX"
      },
      "source": [
        "# Problem 7"
      ]
    },
    {
      "cell_type": "code",
      "metadata": {
        "id": "DYc9F8W4aejq"
      },
      "source": [
        "def avg_gcc(d, s, n, p, REP):\n",
        "    avg_gcc = []\n",
        "    avg_avglcc = []\n",
        "\n",
        "    for p in P:\n",
        "        G = [ig.Graph.Watts_Strogatz(dim=d, size=s, nei=8, p=p) for rep in range(REP)]\n",
        "        # x1 = [g.transitivity_undirected() for g in G]\n",
        "        # x2 = [g.transitivity_avglocal_undirected() for g in G]\n",
        "        avg_gcc.append(np.mean([g.transitivity_undirected() for g in G]))\n",
        "        avg_avglcc.append(np.mean([g.transitivity_avglocal_undirected() for g in G]))\n",
        "\n",
        "    return avg_gcc, avg_avglcc "
      ],
      "execution_count": null,
      "outputs": []
    },
    {
      "cell_type": "code",
      "metadata": {
        "id": "QwmRKLMRaggJ"
      },
      "source": [
        "P = np.arange(0.1, 1, 0.02)\n",
        "# P = np.arange(0.1, 0.6, 0.02)\n",
        "REP = 5\n",
        "\n",
        "avg_gcc, avg_avglcc = avg_gcc(2, 100, 8, P, REP)"
      ],
      "execution_count": null,
      "outputs": []
    },
    {
      "cell_type": "code",
      "metadata": {
        "colab": {
          "base_uri": "https://localhost:8080/",
          "height": 300
        },
        "id": "u9m4R_Htaltx",
        "outputId": "bab6d31b-f1af-4217-b3f5-fdf31e531fa6"
      },
      "source": [
        "plt.scatter(P, avg_gcc)\n",
        "plt.xlabel('rewire probability',fontsize=14)\n",
        "plt.ylabel('global cluster coefficient',fontsize=14)"
      ],
      "execution_count": null,
      "outputs": [
        {
          "output_type": "execute_result",
          "data": {
            "text/plain": [
              "Text(0, 0.5, 'global cluster coefficient')"
            ]
          },
          "metadata": {},
          "execution_count": 6
        },
        {
          "output_type": "display_data",
          "data": {
            "image/png": "[encoded data removed]",
            "text/plain": [
              "<Figure size 432x288 with 1 Axes>"
            ]
          },
          "metadata": {
            "needs_background": "light"
          }
        }
      ]
    },
    {
      "cell_type": "code",
      "metadata": {
        "colab": {
          "base_uri": "https://localhost:8080/",
          "height": 304
        },
        "id": "N0YKwAQ2anrF",
        "outputId": "ae71e31a-b2dd-41b1-93d5-fc9b58be8cf8"
      },
      "source": [
        "plt.scatter(P, avg_avglcc)\n",
        "plt.xlabel('rewire probability',fontsize=14)\n",
        "plt.ylabel('average local cluster coefficient',fontsize=14)"
      ],
      "execution_count": null,
      "outputs": [
        {
          "output_type": "execute_result",
          "data": {
            "text/plain": [
              "Text(0, 0.5, 'average local cluster coefficient')"
            ]
          },
          "metadata": {},
          "execution_count": 7
        },
        {
          "output_type": "display_data",
          "data": {
            "image/png": "[encoded data removed]",
            "text/plain": [
              "<Figure size 432x288 with 1 Axes>"
            ]
          },
          "metadata": {
            "needs_background": "light"
          }
        }
      ]
    },
    {
      "cell_type": "markdown",
      "metadata": {
        "id": "jeWpUpI8c5Vb"
      },
      "source": [
        "# Problem 8"
      ]
    },
    {
      "cell_type": "code",
      "metadata": {
        "colab": {
          "base_uri": "https://localhost:8080/"
        },
        "id": "83jBM9x2c8cs",
        "outputId": "979e6f42-b17e-4128-b262-25dd1a6d6bb9"
      },
      "source": [
        "g = ig.Graph.Barabasi(n=10000,\n",
        "                      m=5,\n",
        "                      directed = 'True')\n",
        "in_deg = g.degree(mode='in')\n",
        "X = plfit.plfit(in_deg)\n",
        "print(X.plfit())"
      ],
      "execution_count": null,
      "outputs": [
        {
          "output_type": "stream",
          "name": "stdout",
          "text": [
            "(14, 2.076183055673917)\n"
          ]
        },
        {
          "output_type": "stream",
          "name": "stderr",
          "text": [
            "/usr/local/lib/python3.7/dist-packages/plfit/plfit.py:1012: RuntimeWarning: divide by zero encountered in log\n",
            "  alpha = 1.0 + float(nn) * (sum(log(xx/(float(xmin)-0.5))))**-1\n",
            "/usr/local/lib/python3.7/dist-packages/plfit/plfit.py:1012: RuntimeWarning: invalid value encountered in log\n",
            "  alpha = 1.0 + float(nn) * (sum(log(xx/(float(xmin)-0.5))))**-1\n",
            "/usr/local/lib/python3.7/dist-packages/plfit/plfit.py:1065: RuntimeWarning: divide by zero encountered in true_divide\n",
            "  model_cdf = 1.0-(zz.astype('float')/float(xmin))**(1.0-alpha)\n",
            "/usr/local/lib/python3.7/dist-packages/plfit/plfit.py:1065: RuntimeWarning: invalid value encountered in true_divide\n",
            "  model_cdf = 1.0-(zz.astype('float')/float(xmin))**(1.0-alpha)\n"
          ]
        }
      ]
    },
    {
      "cell_type": "code",
      "metadata": {
        "colab": {
          "base_uri": "https://localhost:8080/",
          "height": 284
        },
        "id": "xXt2-YpndAp_",
        "outputId": "a2b7b838-67aa-4c24-9603-afa87ace4209"
      },
      "source": [
        "ax = plt.figure(1)\n",
        "ax = X.xminvsks()\n",
        "ax.set_xlabel(r'$\\ell$',fontsize=14)\n",
        "ax.set_ylabel('Kolmogorov-Smirnov statistic',fontsize=12);"
      ],
      "execution_count": null,
      "outputs": [
        {
          "output_type": "display_data",
          "data": {
            "image/png": "[encoded data removed]",
            "text/plain": [
              "<Figure size 432x288 with 1 Axes>"
            ]
          },
          "metadata": {
            "needs_background": "light"
          }
        }
      ]
    },
    {
      "cell_type": "code",
      "metadata": {
        "colab": {
          "base_uri": "https://localhost:8080/"
        },
        "id": "Jt4JTpsZdDoj",
        "outputId": "999fb466-5160-4fee-c6f1-b98b544269ef"
      },
      "source": [
        "KS_tst = X.test_pl(niter=100)"
      ],
      "execution_count": null,
      "outputs": [
        {
          "output_type": "stream",
          "name": "stderr",
          "text": [
            "/usr/local/lib/python3.7/dist-packages/plfit/plfit.py:1012: RuntimeWarning: divide by zero encountered in log\n",
            "  alpha = 1.0 + float(nn) * (sum(log(xx/(float(xmin)-0.5))))**-1\n",
            "/usr/local/lib/python3.7/dist-packages/plfit/plfit.py:1012: RuntimeWarning: invalid value encountered in log\n",
            "  alpha = 1.0 + float(nn) * (sum(log(xx/(float(xmin)-0.5))))**-1\n",
            "/usr/local/lib/python3.7/dist-packages/plfit/plfit.py:1065: RuntimeWarning: divide by zero encountered in true_divide\n",
            "  model_cdf = 1.0-(zz.astype('float')/float(xmin))**(1.0-alpha)\n",
            "/usr/local/lib/python3.7/dist-packages/plfit/plfit.py:1065: RuntimeWarning: invalid value encountered in true_divide\n",
            "  model_cdf = 1.0-(zz.astype('float')/float(xmin))**(1.0-alpha)\n"
          ]
        },
        {
          "output_type": "stream",
          "name": "stdout",
          "text": [
            "p(100) = 0.920\n"
          ]
        }
      ]
    },
    {
      "cell_type": "code",
      "metadata": {
        "colab": {
          "base_uri": "https://localhost:8080/",
          "height": 281
        },
        "id": "hPnseBw3dEtS",
        "outputId": "8ab3cb48-f6db-486e-e055-5fa395cf7b0e"
      },
      "source": [
        "ax = plt.figure(1)\n",
        "ax = X.alphavsks()"
      ],
      "execution_count": null,
      "outputs": [
        {
          "output_type": "display_data",
          "data": {
            "image/png": "[encoded data removed]",
            "text/plain": [
              "<Figure size 432x288 with 1 Axes>"
            ]
          },
          "metadata": {
            "needs_background": "light"
          }
        }
      ]
    },
    {
      "cell_type": "code",
      "metadata": {
        "colab": {
          "base_uri": "https://localhost:8080/",
          "height": 269
        },
        "id": "J87x65P8dGQb",
        "outputId": "d3ad7f25-7722-4b2f-8656-be0453723d88"
      },
      "source": [
        "X.plotcdf(pointcolor='grey', pointmarker='.',zoom=False)"
      ],
      "execution_count": null,
      "outputs": [
        {
          "output_type": "display_data",
          "data": {
            "image/png": "[encoded data removed]",
            "text/plain": [
              "<Figure size 432x288 with 1 Axes>"
            ]
          },
          "metadata": {
            "needs_background": "light"
          }
        }
      ]
    }
  ]
}